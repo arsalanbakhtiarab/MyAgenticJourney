{
  "nbformat": 4,
  "nbformat_minor": 0,
  "metadata": {
    "colab": {
      "provenance": [],
      "gpuType": "V28"
    },
    "kernelspec": {
      "name": "python3",
      "display_name": "Python 3"
    },
    "language_info": {
      "name": "python"
    },
    "accelerator": "TPU"
  },
  "cells": [
    {
      "cell_type": "markdown",
      "source": [
        "# Install packages\n"
      ],
      "metadata": {
        "id": "VaY7UNE8k6xN"
      }
    },
    {
      "cell_type": "code",
      "execution_count": 22,
      "metadata": {
        "id": "3TLhRWUydzWw"
      },
      "outputs": [],
      "source": [
        "%%capture --no-stderr\n",
        "!pip install -q langchain_google_genai langchain_core langchain_community tavily-python pydantic\n",
        "%pip install --quiet -U langgraph psycopg2-binary"
      ]
    },
    {
      "cell_type": "markdown",
      "source": [
        "# Import packages"
      ],
      "metadata": {
        "id": "7QS7VjInlmK8"
      }
    },
    {
      "cell_type": "code",
      "source": [
        "import os\n",
        "import pandas as pd\n",
        "from sqlalchemy import create_engine\n",
        "\n",
        "from pydantic import BaseModel\n",
        "from langchain_core.tools import tool\n",
        "from langgraph.graph import MessagesState\n",
        "from IPython.display import Image, display\n",
        "from langgraph.graph import StateGraph, START, END\n",
        "from langgraph.graph.state import CompiledStateGraph\n",
        "from langgraph.prebuilt import ToolNode, tools_condition\n",
        "from langchain_google_genai import ChatGoogleGenerativeAI\n",
        "from langchain_core.messages import HumanMessage, AIMessage"
      ],
      "metadata": {
        "id": "D5av7O72k1Rm"
      },
      "execution_count": 23,
      "outputs": []
    },
    {
      "cell_type": "markdown",
      "source": [
        " # Set up authentication keys"
      ],
      "metadata": {
        "id": "bXbL1MQ_mJjF"
      }
    },
    {
      "cell_type": "code",
      "source": [
        "from google.colab import userdata\n",
        "GEMINI_API_KEY = userdata.get('GOOGLE_API_KEY')"
      ],
      "metadata": {
        "id": "QzlvydKqe5Ol"
      },
      "execution_count": 24,
      "outputs": []
    },
    {
      "cell_type": "code",
      "source": [
        "llm = ChatGoogleGenerativeAI(\n",
        "    model = \"gemini-2.0-flash\",\n",
        "    api_key = GEMINI_API_KEY,\n",
        "    temperature = 0)\n",
        "# Test connection\n",
        "print(\"Testing LLM connection...\")\n",
        "test_response = llm.invoke(\"Hello!\")\n",
        "print(f\"LLM Response: {test_response.content}\")"
      ],
      "metadata": {
        "id": "u58PB6simTqw",
        "colab": {
          "base_uri": "https://localhost:8080/"
        },
        "outputId": "d61c0d95-a348-43a0-90a5-bd7c5bc0d36c"
      },
      "execution_count": 25,
      "outputs": [
        {
          "output_type": "stream",
          "name": "stdout",
          "text": [
            "Testing LLM connection...\n",
            "LLM Response: Hello! How can I help you today?\n"
          ]
        }
      ]
    },
    {
      "cell_type": "markdown",
      "source": [
        "# 🛠️ Define the tools"
      ],
      "metadata": {
        "id": "GsyCs_jqyEAh"
      }
    },
    {
      "cell_type": "code",
      "source": [
        "# Define state\n",
        "class MyState(MessagesState):\n",
        "    pass\n",
        "\n",
        "# Database tool\n",
        "@tool\n",
        "def get_data_from_db(query: str) -> str:\n",
        "    \"\"\"\n",
        "    Execute SQL query on configs_strategies table and return CSV results.\n",
        "    Table columns: name, symbol, time_horizon, data_exchange, use_ml, use_patterns, etc.\n",
        "    \"\"\"\n",
        "    print(f\"Executing query: {query}\")\n",
        "\n",
        "    # Get database credentials\n",
        "    host = os.getenv('DB_HOST')\n",
        "    user_name = os.getenv('DB_USER')\n",
        "    password = os.getenv('DB_PASSWORD')\n",
        "    db_name = os.getenv('DB_NAME')\n",
        "\n",
        "    if not all([host, user_name, password, db_name]):\n",
        "        return \"ERROR: Database credentials not set\"\n",
        "\n",
        "    try:\n",
        "        # Create SQLAlchemy engine (no warning)\n",
        "        connection_string = f\"postgresql://{user_name}:{password}@{host}/{db_name}\"\n",
        "        engine = create_engine(connection_string)\n",
        "\n",
        "        # Execute query\n",
        "        df = pd.read_sql(query, engine)\n",
        "        engine.dispose()  # Clean up connection\n",
        "\n",
        "        if df.empty:\n",
        "            return \"No data found\"\n",
        "        else:\n",
        "            return df.to_csv(\"data.csv\", index=False)\n",
        "\n",
        "    except Exception as e:\n",
        "        return f\"ERROR: {str(e)}\"\n",
        "\n",
        "# Setup tools\n",
        "tools = [get_data_from_db]\n",
        "llm_with_tools = llm.bind_tools(tools)\n"
      ],
      "metadata": {
        "id": "3RhRn83UtrYC"
      },
      "execution_count": 26,
      "outputs": []
    },
    {
      "cell_type": "code",
      "source": [
        "\n",
        "# Node functions\n",
        "def llm_node(state: MyState) -> dict:\n",
        "    \"\"\"Main LLM node that processes requests and calls tools\"\"\"\n",
        "    print(\"LLM processing request...\")\n",
        "\n",
        "    # Add context about database schema\n",
        "    messages = state[\"messages\"]\n",
        "    if len(messages) == 1:\n",
        "        context = \"\"\"You help users query a PostgreSQL database table called 'configs_strategies'.\n",
        "                     Key columns: name, symbol, time_horizon, data_exchange, use_ml, use_patterns\n",
        "                     Generate correct SQL queries and present results clearly.\"\"\"\n",
        "\n",
        "        enhanced_message = HumanMessage(content=f\"{context}\\n\\nUser request: {messages[0].content}\")\n",
        "        messages = [enhanced_message]\n",
        "\n",
        "    response = llm_with_tools.invoke(messages)\n",
        "    return {\"messages\": [*state[\"messages\"], response]}\n",
        "\n",
        "def format_response(state: MyState) -> dict:\n",
        "    \"\"\"Format the final response after tool execution\"\"\"\n",
        "    print(\"Formatting final response...\")\n",
        "\n",
        "    # Find the tool result\n",
        "    messages = state[\"messages\"]\n",
        "    tool_result = None\n",
        "\n",
        "    for msg in reversed(messages):\n",
        "        if hasattr(msg, 'content') and isinstance(msg.content, str):\n",
        "            if ',' in msg.content and not msg.content.startswith('ERROR'):\n",
        "                tool_result = msg.content\n",
        "                break\n",
        "\n",
        "    if tool_result and not tool_result.startswith('ERROR'):\n",
        "        prompt = f\"The database query was successful. Here's the data:\\n\\n{tool_result}\\n\\nPlease summarize this data clearly.\"\n",
        "    else:\n",
        "        prompt = f\"There was an error with the query: {tool_result}\\n\\nPlease explain what went wrong.\"\n",
        "\n",
        "    final_response = llm.invoke([HumanMessage(content=prompt)])\n",
        "    return {\"messages\": [*state[\"messages\"], final_response]}\n"
      ],
      "metadata": {
        "id": "rSI2vL13zQV6"
      },
      "execution_count": 27,
      "outputs": []
    },
    {
      "cell_type": "code",
      "source": [
        "# Build the graph\n",
        "print(\"Building graph...\")\n",
        "builder = StateGraph(MyState)\n",
        "\n",
        "# Add nodes\n",
        "builder.add_node(\"llm_node\", llm_node)\n",
        "builder.add_node(\"tools\", ToolNode(tools))\n",
        "builder.add_node(\"format_response\", format_response)\n",
        "\n",
        "# Add edges\n",
        "builder.add_edge(START, \"llm_node\")\n",
        "builder.add_conditional_edges(\n",
        "    \"llm_node\",\n",
        "    tools_condition,\n",
        "    {\n",
        "        \"tools\": \"tools\",\n",
        "        \"__end__\": \"format_response\"\n",
        "    }\n",
        ")\n",
        "builder.add_edge(\"tools\", \"format_response\")\n",
        "builder.add_edge(\"format_response\", END)\n",
        "\n",
        "# Compile graph\n",
        "graph = builder.compile()\n",
        "display(Image(graph.get_graph().draw_mermaid_png()))\n",
        "print(\"Graph built successfully\")\n"
      ],
      "metadata": {
        "colab": {
          "base_uri": "https://localhost:8080/",
          "height": 486
        },
        "id": "WO5o91jdziWL",
        "outputId": "702a00ba-20b0-4a69-c541-d2dd24976883"
      },
      "execution_count": 28,
      "outputs": [
        {
          "output_type": "stream",
          "name": "stdout",
          "text": [
            "Building graph...\n"
          ]
        },
        {
          "output_type": "display_data",
          "data": {
            "image/png": "[encoded data removed]",
            "text/plain": [
              "<IPython.core.display.Image object>"
            ]
          },
          "metadata": {}
        },
        {
          "output_type": "stream",
          "name": "stdout",
          "text": [
            "Graph built successfully\n"
          ]
        }
      ]
    },
    {
      "cell_type": "code",
      "source": [
        "def run_query(user_request):\n",
        "    \"\"\"Simple function to run a query\"\"\"\n",
        "    print(f\"\\nRunning query: {user_request}\")\n",
        "    print(\"-\" * 50)\n",
        "\n",
        "    try:\n",
        "        result = graph.invoke({\"messages\": [HumanMessage(content=user_request)]})\n",
        "        final_message = result[\"messages\"][-1]\n",
        "        print(\"Result:\")\n",
        "        print(final_message.content)\n",
        "        return result\n",
        "    except Exception as e:\n",
        "        print(f\"Error: {e}\")\n",
        "        return None\n",
        "\n",
        "queries = [\n",
        "        \"Get all rows where time_horizon = '4h'\",\n",
        "        \"Show me 5 configurations that use ML\",\n",
        "        \"Count strategies by time_horizon\"\n",
        "    ]\n",
        "\n",
        "for query in queries:\n",
        "        run_query(query)\n",
        "        print(\"\\n\" + \"=\"*60 + \"\\n\")"
      ],
      "metadata": {
        "id": "gbd0XkTp78X8",
        "outputId": "7ddc87aa-c089-4a06-f2ef-7e648e6ef4a5",
        "colab": {
          "base_uri": "https://localhost:8080/"
        }
      },
      "execution_count": 32,
      "outputs": [
        {
          "output_type": "stream",
          "name": "stdout",
          "text": [
            "\n",
            "Running query: Get all rows where time_horizon = '4h'\n",
            "--------------------------------------------------\n",
            "LLM processing request...\n",
            "Executing query: SELECT * FROM configs_strategies WHERE time_horizon = '4h'\n",
            "Formatting final response...\n",
            "Result:\n",
            "The error \"There was an error with the query: None\" indicates that the system received a query that was essentially empty or non-existent.  Here's a breakdown of why this is a problem and what likely happened:\n",
            "\n",
            "* **\"Query: None\" means there was no actual query.** The system expected to receive some kind of instruction or request (a query), but instead, it received `None` (or its equivalent in the programming language being used).  `None` is often used to represent the absence of a value.\n",
            "\n",
            "* **Why is this an error?**  The system is designed to process queries.  Without a query, it doesn't know what to do.  It's like asking a chef to cook something but not telling them what you want.  The system can't proceed without instructions.\n",
            "\n",
            "* **Possible Causes:**\n",
            "\n",
            "    * **Programming Error:**  The code that was supposed to generate and send the query had a bug.  Perhaps a variable was not initialized, a function returned `None` unexpectedly, or there was a logic error that prevented the query from being constructed.\n",
            "    * **Input Validation Failure:**  The system might have received invalid input that caused the query generation process to fail, resulting in `None`.  For example, if the query depends on user input and the user provides an empty or incorrect value, the query might not be created.\n",
            "    * **Network Issue:**  In some cases, a network problem could prevent the query from being transmitted correctly, leading to the system receiving `None`.  This is less likely if the error message is specifically \"Query: None,\" as that suggests the problem occurred *before* the query was sent.\n",
            "    * **Database Connection Problem:** If the query is intended to interact with a database, a failed database connection could prevent the query from being formed or executed, resulting in a `None` value.\n",
            "    * **Timeout:** A timeout during the query generation process could also lead to a `None` query.\n",
            "\n",
            "**In summary, the error \"There was an error with the query: None\" signifies a fundamental problem: the system was asked to do something without being told *what* to do.  The root cause is likely a bug in the code responsible for creating and sending the query.**\n",
            "\n",
            "============================================================\n",
            "\n",
            "\n",
            "Running query: Show me 5 configurations that use ML\n",
            "--------------------------------------------------\n",
            "LLM processing request...\n",
            "Executing query: SELECT * FROM configs_strategies WHERE use_ml = TRUE LIMIT 5;\n",
            "Formatting final response...\n",
            "Result:\n",
            "The error \"There was an error with the query: None\" indicates that the system received a query that was essentially empty or non-existent.  Here's a breakdown of why this is a problem and what likely happened:\n",
            "\n",
            "* **\"Query: None\" means there was no actual query.** The system expected to receive some kind of instruction or request (a query), but instead, it received `None` (or its equivalent in the programming language being used).  `None` is often used to represent the absence of a value.\n",
            "\n",
            "* **Why is this an error?**  The system is designed to process queries.  Without a query, it doesn't know what to do.  It's like asking a chef to cook something but not telling them what you want.  The system can't proceed without instructions.\n",
            "\n",
            "* **Possible Causes:**\n",
            "\n",
            "    * **Programming Error:**  The code that was supposed to generate and send the query had a bug.  Perhaps a variable was not initialized, a function returned `None` unexpectedly, or there was a logic error that prevented the query from being constructed.\n",
            "    * **Input Validation Failure:**  The system might have received invalid input that caused the query generation process to fail, resulting in `None`.  For example, if the query depends on user input and the user provides an empty or incorrect value, the query might not be created.\n",
            "    * **Network Issue:**  In some cases, a network problem could prevent the query from being transmitted correctly, leading to the system receiving `None`.  This is less likely if the error message is specifically \"Query: None,\" as that suggests the problem occurred *before* the query was sent.\n",
            "    * **Database Connection Problem:** If the query is intended to interact with a database, a failed database connection could prevent the query from being formed or executed, resulting in a `None` value.\n",
            "    * **Timeout:** A timeout during the query generation process could also lead to a `None` query.\n",
            "\n",
            "**In summary, the error \"There was an error with the query: None\" signifies a fundamental problem: the system was asked to do something without being told *what* to do.  The root cause is likely a bug in the code responsible for creating and sending the query.**\n",
            "\n",
            "============================================================\n",
            "\n",
            "\n",
            "Running query: Count strategies by time_horizon\n",
            "--------------------------------------------------\n",
            "LLM processing request...\n",
            "Formatting final response...\n",
            "Result:\n",
            "The query counts the number of entries in the `configs_strategies` table for each distinct `time_horizon` value. In other words, it shows how many configuration strategies exist for each time horizon.\n",
            "\n",
            "============================================================\n",
            "\n"
          ]
        }
      ]
    },
    {
      "cell_type": "code",
      "source": [],
      "metadata": {
        "id": "6TZwPdjb8IiN"
      },
      "execution_count": null,
      "outputs": []
    }
  ]
}