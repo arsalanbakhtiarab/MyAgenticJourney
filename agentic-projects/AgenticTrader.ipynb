{
  "nbformat": 4,
  "nbformat_minor": 0,
  "metadata": {
    "colab": {
      "provenance": []
    },
    "kernelspec": {
      "name": "python3",
      "display_name": "Python 3"
    },
    "language_info": {
      "name": "python"
    }
  },
  "cells": [
    {
      "cell_type": "code",
      "execution_count": 1,
      "metadata": {
        "id": "3TLhRWUydzWw",
        "colab": {
          "base_uri": "https://localhost:8080/"
        },
        "outputId": "a87ea54b-6651-4427-cb0c-c1224dfbbaad"
      },
      "outputs": [
        {
          "output_type": "stream",
          "name": "stdout",
          "text": [
            "hi\n"
          ]
        }
      ],
      "source": [
        "print(\"hi\")"
      ]
    },
    {
      "cell_type": "code",
      "source": [
        "\"\""
      ],
      "metadata": {
        "id": "QzlvydKqe5Ol"
      },
      "execution_count": null,
      "outputs": []
    }
  ]
}