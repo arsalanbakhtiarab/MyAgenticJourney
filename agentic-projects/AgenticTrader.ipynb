{
  "nbformat": 4,
  "nbformat_minor": 0,
  "metadata": {
    "colab": {
      "provenance": [],
      "gpuType": "V28"
    },
    "kernelspec": {
      "name": "python3",
      "display_name": "Python 3"
    },
    "language_info": {
      "name": "python"
    },
    "accelerator": "TPU"
  },
  "cells": [
    {
      "cell_type": "markdown",
      "source": [
        "# Install packages\n",
        "AgenticTrader"
      ],
      "metadata": {
        "id": "VaY7UNE8k6xN"
      }
    },
    {
      "cell_type": "code",
      "execution_count": 1,
      "metadata": {
        "id": "3TLhRWUydzWw"
      },
      "outputs": [],
      "source": [
        "%%capture --no-stderr\n",
        "!pip install -q langchain_google_genai langchain_core langchain_community tavily-python pydantic\n",
        "%pip install --quiet -U langgraph"
      ]
    },
    {
      "cell_type": "markdown",
      "source": [
        "# Import packages"
      ],
      "metadata": {
        "id": "7QS7VjInlmK8"
      }
    },
    {
      "cell_type": "code",
      "source": [
        "from pydantic import BaseModel\n",
        "from IPython.display import Image, display\n",
        "from langgraph.graph import StateGraph, START, END\n",
        "from langgraph.graph.state import CompiledStateGraph\n",
        "from langchain_google_genai import ChatGoogleGenerativeAI\n",
        "from langchain_core.messages import HumanMessage, AIMessage"
      ],
      "metadata": {
        "id": "D5av7O72k1Rm"
      },
      "execution_count": 2,
      "outputs": []
    },
    {
      "cell_type": "markdown",
      "source": [
        " # Set up authentication keys"
      ],
      "metadata": {
        "id": "bXbL1MQ_mJjF"
      }
    },
    {
      "cell_type": "code",
      "source": [
        "from google.colab import userdata\n",
        "GEMINI_API_KEY = userdata.get('GOOGLE_API_KEY')"
      ],
      "metadata": {
        "id": "QzlvydKqe5Ol"
      },
      "execution_count": 3,
      "outputs": []
    },
    {
      "cell_type": "code",
      "source": [
        "llm = ChatGoogleGenerativeAI(\n",
        "    model = \"gemini-2.0-flash\",\n",
        "    api_key = GEMINI_API_KEY,\n",
        "    temperature = 0)"
      ],
      "metadata": {
        "id": "u58PB6simTqw"
      },
      "execution_count": 4,
      "outputs": []
    },
    {
      "cell_type": "code",
      "source": [
        "llm.invoke(\"hi\")"
      ],
      "metadata": {
        "id": "9a__ykocm93F",
        "outputId": "1a4c21e3-a56a-4eed-9169-d6f7456d9e38",
        "colab": {
          "base_uri": "https://localhost:8080/"
        }
      },
      "execution_count": 5,
      "outputs": [
        {
          "output_type": "execute_result",
          "data": {
            "text/plain": [
              "AIMessage(content='Hi there! How can I help you today?', additional_kwargs={}, response_metadata={'prompt_feedback': {'block_reason': 0, 'safety_ratings': []}, 'finish_reason': 'STOP', 'model_name': 'gemini-2.0-flash', 'safety_ratings': []}, id='run--f43797de-4267-4808-80bd-df4d658152e2-0', usage_metadata={'input_tokens': 1, 'output_tokens': 11, 'total_tokens': 12, 'input_token_details': {'cache_read': 0}})"
            ]
          },
          "metadata": {},
          "execution_count": 5
        }
      ]
    },
    {
      "cell_type": "code",
      "source": [
        "messages = [\n",
        "    HumanMessage(content=\"Hi\", name=\"Human Student\"),\n",
        "    AIMessage(content='Hi! How can I help you today? \\n', name=\"AI Assistant\"),\n",
        "    HumanMessage(content=\"What is LangChain?\", name=\"Human Student\"),\n",
        "    AIMessage(content='LangChain is a framework for developing applications powered by language models.', name=\"AI Assistant\"),\n",
        "    HumanMessage(content=\"How can I learn\", name=\"Human Student\"),\n",
        "    ]\n",
        "\n",
        "response = llm.invoke(messages)\n",
        "messages.append(response)\n",
        "\n",
        "# for message in messages:\n",
        "#   message.pretty_print()"
      ],
      "metadata": {
        "id": "GAI3gsB1wqi3"
      },
      "execution_count": 6,
      "outputs": []
    },
    {
      "cell_type": "markdown",
      "source": [
        "# State\n",
        "\n",
        "First, define the State of the graph.\n",
        "\n",
        "The State schema serves as the input schema for all Nodes and Edges in the graph.\n",
        "\n",
        "Each node returns a new value of the state key graph_state.\n",
        "\n",
        "By default, the new value returned by each node will override the prior state value."
      ],
      "metadata": {
        "id": "BFkpsvO1zpMw"
      }
    },
    {
      "cell_type": "code",
      "source": [
        "class learning_state(BaseModel):\n",
        "  prompt : str"
      ],
      "metadata": {
        "id": "GsyCs_jqyEAh"
      },
      "execution_count": 7,
      "outputs": []
    },
    {
      "cell_type": "code",
      "source": [
        "# prompt: create an example from above LearningState\n",
        "state: learning_state = learning_state(prompt = \"hello from world\")\n",
        "print(state)\n",
        "print(state.prompt +\" I am\")\n",
        "print(state)\n",
        "print(type(state))"
      ],
      "metadata": {
        "colab": {
          "base_uri": "https://localhost:8080/"
        },
        "id": "7pP_29630BDy",
        "outputId": "83358b6a-02de-4a6d-b27e-150f3386fc02"
      },
      "execution_count": 8,
      "outputs": [
        {
          "output_type": "stream",
          "name": "stdout",
          "text": [
            "prompt='hello from world'\n",
            "hello from world I am\n",
            "prompt='hello from world'\n",
            "<class '__main__.learning_state'>\n"
          ]
        }
      ]
    },
    {
      "cell_type": "markdown",
      "source": [
        "# Nodes\n",
        "\n",
        "Nodes are just Python functions.\n",
        "\n",
        "The first positional argument is the state (a Pydantic model).\n",
        "\n",
        "Since the state is a Pydantic model, nodes can access fields like: state.graph_state.\n",
        "\n",
        "Each node returns a new instance of the state with an updated graph_state value.\n",
        "\n",
        "By default, this new value replaces the old one."
      ],
      "metadata": {
        "id": "1mtb38Gz48uL"
      }
    },
    {
      "cell_type": "code",
      "source": [
        "# For TypedDict\n",
        "\n",
        "# def node_1(state: learning_state) -> learning_state:\n",
        "#   print(\"---node 1 state ---\")\n",
        "#   return {\"prompt\" : state['prompt'] + \"i am\"}\n",
        "\n",
        "# def node_2(state: learning_state) -> learning_state:\n",
        "#   print(\"---node 2 state ---\")\n",
        "#   return {\"prompt\" : state['prompt'] + \"happy\"}\n",
        "\n",
        "# For pydantic\n",
        "\n",
        "def node_1(state: learning_state) -> learning_state:\n",
        "    print(\"---node 1 state ---\")\n",
        "    return learning_state(prompt=state.prompt + \" i am\")\n",
        "\n",
        "def node_2(state: learning_state) -> learning_state:\n",
        "    print(\"---node 2 state ---\")\n",
        "    return learning_state(prompt=state.prompt + \" happy\")\n"
      ],
      "metadata": {
        "id": "8eijbe8G1pgJ"
      },
      "execution_count": 9,
      "outputs": []
    },
    {
      "cell_type": "markdown",
      "source": [
        "# Edges\n",
        "Edges connect the nodes.\n",
        "\n",
        "Normal Edges are used if you want to always go from, for example, node_1 to node_2.\n",
        "\n",
        "# Graph Construction\n",
        "Now, we build the graph from our components defined above.\n",
        "\n",
        "The StateGraph class is the graph class that we can use.\n",
        "\n",
        "First, we initialize a StateGraph with the State class we defined above.\n",
        "\n",
        "Then, we add our nodes and edges.\n",
        "\n",
        "We use the START Node, a special node that sends user input to the graph, to indicate where to start our graph.\n",
        "\n",
        "The END Node is a special node that represents a terminal node.\n",
        "\n",
        "Finally, we compile our graph to perform a few basic checks on the graph structure.\n",
        "\n",
        "We can visualize the graph as a Mermaid diagram."
      ],
      "metadata": {
        "id": "O5A30ayr5wmx"
      }
    },
    {
      "cell_type": "code",
      "source": [
        "# Build graph\n",
        "builder: StateGraph = StateGraph(state_schema=learning_state)\n",
        "\n",
        "# Nodes\n",
        "builder.add_node(\"node_1\", node_1)\n",
        "builder.add_node(\"node_2\", node_2)\n",
        "\n",
        "# Simples Edges Logic\n",
        "builder.add_edge(START, \"node_1\")\n",
        "builder.add_edge(\"node_1\", \"node_2\")\n",
        "builder.add_edge(\"node_2\", END)\n",
        "\n",
        "# Add\n",
        "graph: CompiledStateGraph = builder.compile()\n",
        "\n",
        "# View\n",
        "display(Image(graph.get_graph().draw_mermaid_png()))\n"
      ],
      "metadata": {
        "colab": {
          "base_uri": "https://localhost:8080/",
          "height": 350
        },
        "id": "7hpgoGQz5qoZ",
        "outputId": "b9aa219c-2078-4970-f15c-f50b5f6d3c9f"
      },
      "execution_count": 10,
      "outputs": [
        {
          "output_type": "display_data",
          "data": {
            "image/png": "[encoded data removed]",
            "text/plain": [
              "<IPython.core.display.Image object>"
            ]
          },
          "metadata": {}
        }
      ]
    },
    {
      "cell_type": "markdown",
      "source": [
        "# Graph Invocation\n",
        "The compiled graph implements the runnable protocol.\n",
        "\n",
        "This provides a standard way to execute LangChain components.\n",
        "\n",
        "invoke is one of the standard methods in this interface.\n",
        "\n",
        "The input is a dictionary {\"graph_state\": \"Hi, this is lance.\"}, which sets the initial value for our graph state dict.\n",
        "\n",
        "When invoke is called, the graph starts execution from the START node.\n",
        "\n",
        "It progresses through the defined nodes (node_1, node_2, node_3) in order.\n",
        "\n",
        "Each node function receives the current state and returns a new value, which overrides the graph state.\n",
        "\n",
        "The execution continues until it reaches the END node."
      ],
      "metadata": {
        "id": "hzrf9ScQQQY2"
      }
    },
    {
      "cell_type": "code",
      "source": [
        "graph.invoke({\"prompt\" : \"Hi\"})"
      ],
      "metadata": {
        "colab": {
          "base_uri": "https://localhost:8080/"
        },
        "id": "uPYjBW6KP5rm",
        "outputId": "ed579aa8-1a0d-4474-e430-6cd8f8d76655"
      },
      "execution_count": 11,
      "outputs": [
        {
          "output_type": "stream",
          "name": "stdout",
          "text": [
            "---node 1 state ---\n",
            "---node 2 state ---\n"
          ]
        },
        {
          "output_type": "execute_result",
          "data": {
            "text/plain": [
              "{'prompt': 'Hi i am happy'}"
            ]
          },
          "metadata": {},
          "execution_count": 11
        }
      ]
    },
    {
      "cell_type": "markdown",
      "source": [
        "# Conditional Edges\n",
        "Conditional Edges are used want to optionally route between nodes.\n",
        "\n",
        "Conditional edges are implemented as functions that return the next node to visit based upon some logic."
      ],
      "metadata": {
        "id": "Bgsjn5C2SdXf"
      }
    },
    {
      "cell_type": "code",
      "source": [
        "class learning_state(BaseModel):\n",
        "    prompt: str\n",
        "\n",
        "def node_1(state: learning_state) -> learning_state:\n",
        "    print(\"---node 1 state ---\")\n",
        "    return learning_state(prompt=state.prompt + \" i am\")\n",
        "\n",
        "def node_2(state: learning_state) -> learning_state:\n",
        "    print(\"---node 2 state ---\")\n",
        "    return learning_state(prompt=state.prompt + \" happy\")\n",
        "\n",
        "def node_3(state: learning_state) -> learning_state:\n",
        "    print(\"---node 3 state ---\")\n",
        "    return learning_state(prompt=state.prompt + \" sad\")"
      ],
      "metadata": {
        "id": "iTdAI01-QYUO"
      },
      "execution_count": 12,
      "outputs": []
    },
    {
      "cell_type": "code",
      "source": [
        "import random\n",
        "from typing import Literal\n",
        "\n",
        "def decide_mood(state: learning_state) -> Literal[\"node_2\", \"node_3\"]:\n",
        "\n",
        "    # Often, we will use state to decide on the next node to visit\n",
        "    user_input = state.prompt\n",
        "\n",
        "    # Here, let's just do a 50 / 50 split between nodes 2, 3\n",
        "    if random.random() < 0.5:\n",
        "\n",
        "        # 50% of the time, we return Node 2\n",
        "        return \"node_2\"\n",
        "\n",
        "    # 50% of the time, we return Node 3\n",
        "    return \"node_3\""
      ],
      "metadata": {
        "id": "NtR4JLqpS_K_"
      },
      "execution_count": 13,
      "outputs": []
    },
    {
      "cell_type": "code",
      "source": [
        "# Build Graph\n",
        "builder : StateGraph = StateGraph(learning_state)\n",
        "builder.add_node(\"node_1\", node_1)\n",
        "builder.add_node(\"node_2\", node_2)\n",
        "builder.add_node(\"node_3\", node_3)\n",
        "\n",
        "# Logic\n",
        "builder.add_edge(START, \"node_1\")\n",
        "builder.add_conditional_edges(\"node_1\", decide_mood)\n",
        "builder.add_edge(\"node_2\", END)\n",
        "builder.add_edge(\"node_3\", END)\n",
        "\n",
        "\n",
        "graph : CompiledStateGraph = builder.compile()\n",
        "\n",
        "# View\n",
        "display(Image(graph.get_graph().draw_mermaid_png()))"
      ],
      "metadata": {
        "colab": {
          "base_uri": "https://localhost:8080/",
          "height": 350
        },
        "id": "6HHaJSETTxln",
        "outputId": "a5ff6549-7d8f-468d-980e-4833ba227c3c"
      },
      "execution_count": 14,
      "outputs": [
        {
          "output_type": "display_data",
          "data": {
            "image/png": "[encoded data removed]",
            "text/plain": [
              "<IPython.core.display.Image object>"
            ]
          },
          "metadata": {}
        }
      ]
    },
    {
      "cell_type": "code",
      "source": [
        "graph.invoke({\"prompt\": \"Hi, this is Lance.\"})"
      ],
      "metadata": {
        "colab": {
          "base_uri": "https://localhost:8080/"
        },
        "id": "syAM0V3sUJFA",
        "outputId": "bfe70f12-ce1b-446e-e03c-89220c961c61"
      },
      "execution_count": 15,
      "outputs": [
        {
          "output_type": "stream",
          "name": "stdout",
          "text": [
            "---node 1 state ---\n",
            "---node 3 state ---\n"
          ]
        },
        {
          "output_type": "execute_result",
          "data": {
            "text/plain": [
              "{'prompt': 'Hi, this is Lance. i am sad'}"
            ]
          },
          "metadata": {},
          "execution_count": 15
        }
      ]
    },
    {
      "cell_type": "markdown",
      "source": [
        "# Messages\n",
        "Chat models can use messages, which capture different roles within a conversation.\n",
        "\n",
        "LangChain supports various message types, including HumanMessage, AIMessage, SystemMessage, and ToolMessage.\n",
        "\n",
        "These represent a message from the user, from chat model, for the chat model to instruct behavior, and from a tool call.\n",
        "\n",
        "Let's create a list of messages.\n",
        "\n",
        "Each message can be supplied with a few things:\n",
        "\n",
        "content - content of the message\n",
        "name - optionally, a message author\n",
        "response_metadata - optionally, a dict of metadata (e.g., often populated by model provider for AIMessages)"
      ],
      "metadata": {
        "id": "3DxdiFyogEVK"
      }
    },
    {
      "cell_type": "markdown",
      "source": [
        "# Tools\n",
        "Tools are useful whenever you want a model to interact with external systems.\n",
        "\n",
        "External systems (e.g., APIs) often require a particular input schema or payload, rather than natural language.\n",
        "\n",
        "When we bind an API, for example, as a tool we given the model awareness of the required input schema.\n",
        "\n",
        "The model will choose to call a tool based upon the natural language input from the user.\n",
        "\n",
        "And, it will return an output that adheres to the tool's schema.\n",
        "\n",
        "Many LLM providers support tool calling and tool calling interface in LangChain is simple.\n",
        "\n",
        "You can simply pass any Python function into ChatModel.bind_tools(function)."
      ],
      "metadata": {
        "id": "WVDevpkNhEji"
      }
    },
    {
      "cell_type": "code",
      "source": [
        "def deposit_money(name: str, bank_account_no: int) -> int:\n",
        "    \"\"\"Deposit Money in Bank account.\n",
        "\n",
        "    Args:\n",
        "        name: first str\n",
        "        bank_account_no: second int\n",
        "    \"\"\"\n",
        "    # BUSINESS LOGIC for Bank Deposit\n",
        "    # ......\n",
        "    return {\"status\": f\"Deposit Successfule in {name} Account\"}"
      ],
      "metadata": {
        "id": "fJQXwqIZU8oX"
      },
      "execution_count": 16,
      "outputs": []
    },
    {
      "cell_type": "code",
      "source": [
        "llm_with_tools = llm.bind_tools([deposit_money])"
      ],
      "metadata": {
        "id": "Dsy1JUgugRfa"
      },
      "execution_count": 17,
      "outputs": []
    },
    {
      "cell_type": "code",
      "source": [
        "# Without tool call\n",
        "call = llm.invoke([HumanMessage(content=f\"Deposit Money in Ahmad Account. His acc number is 00123\", name=\"Muhammad\")])\n",
        "call"
      ],
      "metadata": {
        "id": "SHmeUNbNintC",
        "outputId": "880852c7-9d0d-4372-a76d-b9d8daeb88e0",
        "colab": {
          "base_uri": "https://localhost:8080/"
        }
      },
      "execution_count": 18,
      "outputs": [
        {
          "output_type": "execute_result",
          "data": {
            "text/plain": [
              "AIMessage(content=\"Okay, I understand. You want to deposit money into Ahmad's account, and the account number is 00123.\\n\\n**Important Considerations:**\\n\\n*   **I am an AI and cannot perform real-world transactions.** I cannot actually deposit money into any account.\\n*   **Security:** Never share sensitive financial information (like your own account numbers, passwords, or PINs) with me or any untrusted source.\\n\\n**To actually deposit the money, you will need to do one of the following:**\\n\\n1.  **Go to Ahmad's Bank:** Visit a branch of the bank where Ahmad has his account (00123). You can tell the teller you want to deposit money into account number 00123, belonging to Ahmad. You will likely need to provide the exact name on the account.\\n2.  **Online Banking/Mobile App:** If you have an account at the same bank as Ahmad, you may be able to transfer funds to his account through your online banking portal or mobile app. You'll need to add him as a payee/recipient and use his account number (00123).\\n3.  **Wire Transfer:** You can initiate a wire transfer from your bank to Ahmad's bank. You'll need the bank name, SWIFT/BIC code, Ahmad's account number (00123), and his full name. This usually involves a fee.\\n4.  **Third-Party Payment Apps:** Some payment apps (like Zelle, Venmo, or Cash App) might allow you to send money to Ahmad if you have his phone number or email address linked to his account. However, this depends on whether Ahmad uses these apps and has linked them to his bank account.\\n5.  **Check:** You can write a check payable to Ahmad and give it to him to deposit into his account.\\n\\n**Before making the deposit, it's always a good idea to:**\\n\\n*   **Confirm the Account Details:** Double-check the account number (00123) and the account holder's name (Ahmad) with Ahmad himself to ensure accuracy. This will prevent the money from being deposited into the wrong account.\\n*   **Be Aware of Fees:** Check with your bank or payment service about any fees associated with the deposit or transfer.\\n\\nPlease let me know if you have any other questions.\", additional_kwargs={}, response_metadata={'prompt_feedback': {'block_reason': 0, 'safety_ratings': []}, 'finish_reason': 'STOP', 'model_name': 'gemini-2.0-flash', 'safety_ratings': []}, id='run--5bc06a10-93c7-4f51-befe-41b5b253f667-0', usage_metadata={'input_tokens': 16, 'output_tokens': 499, 'total_tokens': 515, 'input_token_details': {'cache_read': 0}})"
            ]
          },
          "metadata": {},
          "execution_count": 18
        }
      ]
    },
    {
      "cell_type": "code",
      "source": [
        "# With tool call\n",
        "call = llm_with_tools.invoke([HumanMessage(content=f\"Deposit Money in Ahmad Account. His acc number is 00123\", name=\"Muhammad\")])\n",
        "call"
      ],
      "metadata": {
        "id": "1o-5gfiPirm5",
        "outputId": "ead77be5-9d8f-4d38-dbc8-f3aa3df50534",
        "colab": {
          "base_uri": "https://localhost:8080/"
        }
      },
      "execution_count": 19,
      "outputs": [
        {
          "output_type": "execute_result",
          "data": {
            "text/plain": [
              "AIMessage(content='', additional_kwargs={'function_call': {'name': 'deposit_money', 'arguments': '{\"name\": \"Ahmad\", \"bank_account_no\": 123.0}'}}, response_metadata={'prompt_feedback': {'block_reason': 0, 'safety_ratings': []}, 'finish_reason': 'STOP', 'model_name': 'gemini-2.0-flash', 'safety_ratings': []}, id='run--2729f61c-d456-4288-952a-91b284e30f63-0', tool_calls=[{'name': 'deposit_money', 'args': {'name': 'Ahmad', 'bank_account_no': 123.0}, 'id': 'f1b34772-d350-4501-adb3-f81764a0d48a', 'type': 'tool_call'}], usage_metadata={'input_tokens': 44, 'output_tokens': 11, 'total_tokens': 55, 'input_token_details': {'cache_read': 0}})"
            ]
          },
          "metadata": {},
          "execution_count": 19
        }
      ]
    },
    {
      "cell_type": "code",
      "source": [
        "# Building Graph\n",
        "# We have an LLM Capable of Tool Calling: using bind_tools\n",
        "\n",
        "# Now Lets do the Orchestration Through LangGraph\n",
        "\n",
        "# 0.  State\n",
        "\n",
        "from typing_extensions import TypedDict\n",
        "\n",
        "class LlmWithToolSState(TypedDict):\n",
        "  messages: list\n",
        "\n",
        "# 1. tool calling llm ki Node\n",
        "\n",
        "def call_llm(state: LlmWithToolSState):\n",
        "  messages = state[\"messages\"]\n",
        "  call_response = llm_with_tools.invoke(messages)\n",
        "  # messages.append(call_response)\n",
        "\n",
        "  # return {\"messages\": messages}\n",
        "  return {\"messages\": [call_response]}\n",
        "\n",
        "# 2. Graph\n",
        "\n",
        "from langgraph.graph import StateGraph, START, END\n",
        "\n",
        "builder: StateGraph = StateGraph(LlmWithToolSState)\n",
        "\n",
        "# define nodes\n",
        "builder.add_node(\"call_llm_with_tools\", call_llm)\n",
        "\n",
        "# define edges\n",
        "builder.add_edge(START, \"call_llm_with_tools\")\n",
        "builder.add_edge(\"call_llm_with_tools\", END)\n",
        "\n",
        "# build graph\n",
        "graph = builder.compile()\n",
        "\n",
        "display(Image(graph.get_graph().draw_mermaid_png()))\n",
        "\n",
        "graph.invoke({\"messages\": [HumanMessage(content=\"Deposiut 7000 in Ahmad Account - his bank num is 001\")]})"
      ],
      "metadata": {
        "id": "ZJEHReTDiz1y",
        "outputId": "2e9cb450-5c56-4ca7-e421-6dbcc40b03ac",
        "colab": {
          "base_uri": "https://localhost:8080/",
          "height": 303
        }
      },
      "execution_count": 20,
      "outputs": [
        {
          "output_type": "display_data",
          "data": {
            "image/png": "[encoded data removed]",
            "text/plain": [
              "<IPython.core.display.Image object>"
            ]
          },
          "metadata": {}
        },
        {
          "output_type": "execute_result",
          "data": {
            "text/plain": [
              "{'messages': [AIMessage(content='', additional_kwargs={'function_call': {'name': 'deposit_money', 'arguments': '{\"name\": \"Ahmad\", \"bank_account_no\": 1.0}'}}, response_metadata={'prompt_feedback': {'block_reason': 0, 'safety_ratings': []}, 'finish_reason': 'STOP', 'model_name': 'gemini-2.0-flash', 'safety_ratings': []}, id='run--bf59ff56-c30a-454a-99ac-3a877ba9afa7-0', tool_calls=[{'name': 'deposit_money', 'args': {'name': 'Ahmad', 'bank_account_no': 1.0}, 'id': '41b65247-7d60-4ff1-8975-ad4404de2fdc', 'type': 'tool_call'}], usage_metadata={'input_tokens': 48, 'output_tokens': 11, 'total_tokens': 59, 'input_token_details': {'cache_read': 0}})]}"
            ]
          },
          "metadata": {},
          "execution_count": 20
        }
      ]
    },
    {
      "cell_type": "markdown",
      "source": [
        "# Current Flow\n",
        "LLM: Call this Tool\n",
        "System: Called Tool and told LLM the result.\n",
        "\n",
        "# Issue ??: Where is my Human Message\n",
        "Right now in response we only have AIMessage\n",
        "\n",
        "# Solutions:\n",
        "Proposal 1: manually Add Messages in call_llm using llm\n",
        "\n",
        "Proposal 2: Reducer Functions to Keep History Context\n"
      ],
      "metadata": {
        "id": "T1rVdAWMjSPz"
      }
    },
    {
      "cell_type": "markdown",
      "source": [
        "# Chain\n",
        "\n",
        "Goals\n",
        "Now, let's build up to a simple chain that combines 4 concepts:\n",
        "\n",
        "Using chat messages as our graph state\n",
        "\n",
        "Using chat models in graph nodes\n",
        "\n",
        "Binding tools to our chat model\n",
        "\n",
        "Executing tool calls in graph nodes"
      ],
      "metadata": {
        "id": "tox1jwCvLQHj"
      }
    },
    {
      "cell_type": "markdown",
      "source": [
        "# Messages\n",
        "Chat models can use messages, which capture different roles within a conversation.\n",
        "\n",
        "LangChain supports various message types, including HumanMessage, AIMessage, SystemMessage, and ToolMessage.\n",
        "\n",
        "These represent a message from the user, from chat model, for the chat model to instruct behavior, and from a tool call.\n",
        "\n",
        "Let's create a list of messages.\n",
        "\n",
        "Each message can be supplied with a few things:\n",
        "\n",
        "content - content of the message\n",
        "\n",
        "name - optionally, a message author\n",
        "\n",
        "response_metadata - optionally, a dict of metadata (e.g., often populated by model provider for AIMessages)"
      ],
      "metadata": {
        "id": "yJoxkpWQLjDx"
      }
    },
    {
      "cell_type": "code",
      "source": [
        "from pprint import pprint\n",
        "from langchain_core.messages import AIMessage, HumanMessage\n",
        "\n",
        "messages = [AIMessage(content=f\"So you said you were researching ocean mammals?\", name=\"Model\")]\n",
        "messages.append(HumanMessage(content=f\"Yes, that's right.\",name=\"Lance\"))\n",
        "messages.append(AIMessage(content=f\"Great, what would you like to learn about.\", name=\"Model\"))\n",
        "messages.append(HumanMessage(content=f\"I want to learn about the best place to see Orcas in the US.\", name=\"Lance\"))\n",
        "\n",
        "for m in messages:\n",
        "    m.pretty_print()"
      ],
      "metadata": {
        "id": "UHgI8mRMLZa0",
        "outputId": "573d5b6f-6d04-4e10-e4da-feb56d59b590",
        "colab": {
          "base_uri": "https://localhost:8080/"
        }
      },
      "execution_count": 21,
      "outputs": [
        {
          "output_type": "stream",
          "name": "stdout",
          "text": [
            "==================================\u001b[1m Ai Message \u001b[0m==================================\n",
            "Name: Model\n",
            "\n",
            "So you said you were researching ocean mammals?\n",
            "================================\u001b[1m Human Message \u001b[0m=================================\n",
            "Name: Lance\n",
            "\n",
            "Yes, that's right.\n",
            "==================================\u001b[1m Ai Message \u001b[0m==================================\n",
            "Name: Model\n",
            "\n",
            "Great, what would you like to learn about.\n",
            "================================\u001b[1m Human Message \u001b[0m=================================\n",
            "Name: Lance\n",
            "\n",
            "I want to learn about the best place to see Orcas in the US.\n"
          ]
        }
      ]
    },
    {
      "cell_type": "markdown",
      "source": [
        "# Tools\n",
        "Tools are useful whenever you want a model to interact with external systems.\n",
        "\n",
        "External systems (e.g., APIs) often require a particular input schema or payload, rather than natural language.\n",
        "\n",
        "When we bind an API, for example, as a tool we given the model awareness of the required input schema.\n",
        "\n",
        "The model will choose to call a tool based upon the natural language input from the user.\n",
        "\n",
        "And, it will return an output that adheres to the tool's schema.\n",
        "\n",
        "Many LLM providers support tool calling and tool calling interface in LangChain is simple.\n",
        "\n",
        "You can simply pass any Python function into ChatModel.bind_tools(function)."
      ],
      "metadata": {
        "id": "XtS6wrwdL8cD"
      }
    },
    {
      "cell_type": "markdown",
      "source": [
        "# Reducers\n",
        "Now, we have a minor problem!\n",
        "\n",
        "As we discussed, each node will return a new value for our state key messages.\n",
        "\n",
        "But, this new value will will override the prior messages value.\n",
        "\n",
        "As our graph runs, we want to append messages to to our messages state key.\n",
        "\n",
        "We can use reducer functions address this.\n",
        "\n",
        "Reducers allow us to specify how state updates are performed.\n",
        "\n",
        "If no reducer function is specified, then it is assumed that updates to the key should override it as we saw before.\n",
        "\n",
        "But, to append messages, we can use the pre-built add_messages reducer.\n",
        "\n",
        "This ensures that any messages are appended to the existing list of messages.\n",
        "\n",
        "We annotate simply need to annotate our messages key with the add_messages reducer function as metadata."
      ],
      "metadata": {
        "id": "NUpd6LhpMGoC"
      }
    },
    {
      "cell_type": "code",
      "source": [
        "from typing_extensions import TypedDict\n",
        "from langchain_core.messages import AnyMessage\n",
        "\n",
        "class MessagesState(TypedDict):\n",
        "    messages: list[AnyMessage]"
      ],
      "metadata": {
        "id": "dcPk-IXfLzUV"
      },
      "execution_count": 23,
      "outputs": []
    },
    {
      "cell_type": "markdown",
      "source": [
        "Since having a list of messages in graph state is so common, LangGraph has a pre-built MessagesState!\n",
        "\n",
        "MessagesState is defined:\n",
        "\n",
        "- With a pre-build single messages key\n",
        "\n",
        "- This is a list of AnyMessage objects\n",
        "\n",
        "- It uses the add_messages reducer\n"
      ],
      "metadata": {
        "id": "YPbn1rcXN3BG"
      }
    },
    {
      "cell_type": "code",
      "source": [
        "from langgraph.graph import MessagesState\n",
        "\n",
        "class MessagesState(MessagesState):\n",
        "    # Add any keys needed beyond messages, which is pre-built\n",
        "    pass"
      ],
      "metadata": {
        "id": "F9ZxT-s_MN1N"
      },
      "execution_count": 24,
      "outputs": []
    },
    {
      "cell_type": "code",
      "source": [
        "# Initial state\n",
        "initial_messages = [AIMessage(content=\"Hello! How can I assist you?\", name=\"Model\"),\n",
        "                    HumanMessage(content=\"I'm looking for information on marine biology.\", name=\"Lance\")\n",
        "                   ]\n",
        "\n",
        "# New message to add\n",
        "new_message = AIMessage(content=\"Sure, I can help with that. What specifically are you interested in?\", name=\"Model\")\n",
        "\n",
        "# Test\n",
        "add_messages(initial_messages , new_message)"
      ],
      "metadata": {
        "id": "BiG0N2ElOD8z",
        "outputId": "bbf4f010-45e9-4dc2-98a5-b02b51d9f838",
        "colab": {
          "base_uri": "https://localhost:8080/"
        }
      },
      "execution_count": 25,
      "outputs": [
        {
          "output_type": "execute_result",
          "data": {
            "text/plain": [
              "[AIMessage(content='Hello! How can I assist you?', additional_kwargs={}, response_metadata={}, name='Model', id='54df1d08-a1c3-4758-bcad-f7375be0a444'),\n",
              " HumanMessage(content=\"I'm looking for information on marine biology.\", additional_kwargs={}, response_metadata={}, name='Lance', id='38f668a7-7fee-47af-9d42-dc326fa156a3'),\n",
              " AIMessage(content='Sure, I can help with that. What specifically are you interested in?', additional_kwargs={}, response_metadata={}, name='Model', id='57efbf85-aef4-4119-a8cf-1ecabd15a63f')]"
            ]
          },
          "metadata": {},
          "execution_count": 25
        }
      ]
    },
    {
      "cell_type": "code",
      "source": [
        "def tool_calling_llm(state: MessagesState):\n",
        "    return {\"messages\": [llm_with_tools.invoke(state[\"messages\"])]}\n",
        "\n",
        "# Build graph\n",
        "builder: StateGraph = StateGraph(MessagesState)\n",
        "builder.add_node(\"tool_calling_llm\", tool_calling_llm)\n",
        "builder.add_edge(START, \"tool_calling_llm\")\n",
        "builder.add_edge(\"tool_calling_llm\", END)\n",
        "graph: CompiledStateGraph  = builder.compile()\n",
        "\n",
        "# View\n",
        "display(Image(graph.get_graph().draw_mermaid_png()))"
      ],
      "metadata": {
        "id": "Tb-fcjFPOGUq",
        "outputId": "3d72cc50-f6a8-487f-8ce9-a1e73b168d23",
        "colab": {
          "base_uri": "https://localhost:8080/",
          "height": 251
        }
      },
      "execution_count": 26,
      "outputs": [
        {
          "output_type": "display_data",
          "data": {
            "image/png": "[encoded data removed]",
            "text/plain": [
              "<IPython.core.display.Image object>"
            ]
          },
          "metadata": {}
        }
      ]
    },
    {
      "cell_type": "code",
      "source": [
        "messages = graph.invoke({\"messages\": HumanMessage(content=\"Hello!\")})\n",
        "for m in messages['messages']:\n",
        "    m.pretty_print()"
      ],
      "metadata": {
        "id": "udKGcMfXOK96",
        "outputId": "9729e8b4-696e-4392-f217-bd9db0d46668",
        "colab": {
          "base_uri": "https://localhost:8080/"
        }
      },
      "execution_count": 27,
      "outputs": [
        {
          "output_type": "stream",
          "name": "stdout",
          "text": [
            "================================\u001b[1m Human Message \u001b[0m=================================\n",
            "\n",
            "Hello!\n",
            "==================================\u001b[1m Ai Message \u001b[0m==================================\n",
            "\n",
            "Hi there! How can I help you today?\n"
          ]
        }
      ]
    },
    {
      "cell_type": "code",
      "source": [],
      "metadata": {
        "id": "0IYdn_VdONMT"
      },
      "execution_count": null,
      "outputs": []
    }
  ]
}