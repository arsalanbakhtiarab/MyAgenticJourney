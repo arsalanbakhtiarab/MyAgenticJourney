{
  "nbformat": 4,
  "nbformat_minor": 0,
  "metadata": {
    "colab": {
      "provenance": []
    },
    "kernelspec": {
      "name": "python3",
      "display_name": "Python 3"
    },
    "language_info": {
      "name": "python"
    }
  },
  "cells": [
    {
      "cell_type": "code",
      "execution_count": 3,
      "metadata": {
        "id": "3TLhRWUydzWw",
        "colab": {
          "base_uri": "https://localhost:8080/"
        },
        "outputId": "e4464df8-0af3-4b77-96a2-090d1497e85c"
      },
      "outputs": [
        {
          "output_type": "stream",
          "name": "stdout",
          "text": [
            "hi\n"
          ]
        }
      ],
      "source": [
        "print(\"hi\")"
      ]
    },
    {
      "cell_type": "code",
      "source": [
        "\"\""
      ],
      "metadata": {
        "id": "QzlvydKqe5Ol"
      },
      "execution_count": null,
      "outputs": []
    }
  ]
}