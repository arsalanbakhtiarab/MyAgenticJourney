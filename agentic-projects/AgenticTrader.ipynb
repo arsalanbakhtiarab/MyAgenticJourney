{
  "nbformat": 4,
  "nbformat_minor": 0,
  "metadata": {
    "colab": {
      "provenance": [],
      "gpuType": "V28"
    },
    "kernelspec": {
      "name": "python3",
      "display_name": "Python 3"
    },
    "language_info": {
      "name": "python"
    },
    "accelerator": "TPU"
  },
  "cells": [
    {
      "cell_type": "markdown",
      "source": [
        "# Install packages\n"
      ],
      "metadata": {
        "id": "VaY7UNE8k6xN"
      }
    },
    {
      "cell_type": "code",
      "execution_count": 1,
      "metadata": {
        "id": "3TLhRWUydzWw"
      },
      "outputs": [],
      "source": [
        "%%capture --no-stderr\n",
        "!pip install -q langchain_google_genai langchain_core langchain_community tavily-python pydantic\n",
        "%pip install --quiet -U langgraph"
      ]
    },
    {
      "cell_type": "markdown",
      "source": [
        "# Import packages"
      ],
      "metadata": {
        "id": "7QS7VjInlmK8"
      }
    },
    {
      "cell_type": "code",
      "source": [
        "from pydantic import BaseModel\n",
        "from langgraph.graph import MessagesState\n",
        "from IPython.display import Image, display\n",
        "from langgraph.graph import StateGraph, START, END\n",
        "from langgraph.graph.state import CompiledStateGraph\n",
        "from langgraph.prebuilt import ToolNode, tools_condition\n",
        "from langchain_google_genai import ChatGoogleGenerativeAI\n",
        "from langchain_core.messages import HumanMessage, AIMessage"
      ],
      "metadata": {
        "id": "D5av7O72k1Rm"
      },
      "execution_count": 6,
      "outputs": []
    },
    {
      "cell_type": "markdown",
      "source": [
        " # Set up authentication keys"
      ],
      "metadata": {
        "id": "bXbL1MQ_mJjF"
      }
    },
    {
      "cell_type": "code",
      "source": [
        "from google.colab import userdata\n",
        "GEMINI_API_KEY = userdata.get('GOOGLE_API_KEY')"
      ],
      "metadata": {
        "id": "QzlvydKqe5Ol"
      },
      "execution_count": 3,
      "outputs": []
    },
    {
      "cell_type": "code",
      "source": [
        "llm = ChatGoogleGenerativeAI(\n",
        "    model = \"gemini-2.0-flash\",\n",
        "    api_key = GEMINI_API_KEY,\n",
        "    temperature = 0)"
      ],
      "metadata": {
        "id": "u58PB6simTqw"
      },
      "execution_count": 4,
      "outputs": []
    },
    {
      "cell_type": "code",
      "source": [
        "llm.invoke(\"hi\")"
      ],
      "metadata": {
        "id": "9a__ykocm93F",
        "outputId": "f749905d-e4f6-436d-9200-c32e1a9530fa",
        "colab": {
          "base_uri": "https://localhost:8080/"
        }
      },
      "execution_count": 5,
      "outputs": [
        {
          "output_type": "execute_result",
          "data": {
            "text/plain": [
              "AIMessage(content='Hi there! How can I help you today?', additional_kwargs={}, response_metadata={'prompt_feedback': {'block_reason': 0, 'safety_ratings': []}, 'finish_reason': 'STOP', 'model_name': 'gemini-2.0-flash', 'safety_ratings': []}, id='run--804272ce-1a51-45fb-81bd-74cf74264841-0', usage_metadata={'input_tokens': 1, 'output_tokens': 11, 'total_tokens': 12, 'input_token_details': {'cache_read': 0}})"
            ]
          },
          "metadata": {},
          "execution_count": 5
        }
      ]
    },
    {
      "cell_type": "code",
      "source": [],
      "metadata": {
        "id": "GsyCs_jqyEAh"
      },
      "execution_count": 7,
      "outputs": []
    },
    {
      "cell_type": "code",
      "source": [
        "import pandas as pd\n",
        "import psycopg2\n",
        "\n",
        "class MessagesState(MessagesState):\n",
        "    # Add any keys needed beyond messages, which is pre-built\n",
        "    pass\n",
        "\n",
        "def get_data_from_db(client, query) -> :\n",
        "  \"\"\"\n",
        "  This function is used to get data from the db and return it\n",
        "  the database name is cryptofocus the schema name is public and the table name is configs_strategies\n",
        "  the configs strategies contian the colums are name symbol tim_horizon data_exchange\n",
        "\n",
        "  Args\n",
        "  client :\n",
        "  query ;\n",
        "\n",
        "  return\n",
        "  data\n",
        "  \"\"\"\n",
        "  data = pd.read_sql(f'{query}', client)\n",
        "  return data\n",
        "\n",
        "def create_db_connection() - > :\n",
        "  \"\"\"\n",
        "  this futnion can return the db client\n",
        "  args: None\n",
        "  return : client\n",
        "  \"\"\"\n",
        "\thost = os.getenv('DB_HOST')\n",
        "\tuser_name = os.getenv('DB_USER')\n",
        "\tpassword = os.getenv('DB_PASSWORD')\n",
        "\tdb_name = os.getenv('DB_NAME')\n",
        "\n",
        "\tconnection = psycopg2.connect(\n",
        "\t\thost=host,\n",
        "\t\tdatabase=db_name,\n",
        "\t\tuser=user_name,\n",
        "\t\tpassword=password)\n",
        "\treturn connection\n",
        "\n",
        "# Bind tools to the model\n",
        "tools = [get_data_from_db, create_db_connection]\n",
        "llm_with_tools = llm.bind_tools(tools)\n",
        "\n",
        "\n",
        "def tool_calling_llm(state: MessagesState) -> MessagesState:\n",
        "    \"\"\"Node that invokes the LLM with tool capabilities\"\"\"\n",
        "    return {\"messages\": [llm_with_tools.invoke(state[\"messages\"])]}\n",
        "\n",
        "# Build tool router grapgh\n",
        "builder = StateGraph(MessagesState)\n",
        "builder.add_node(tool_calling_llm)\n",
        "builder.add_node(\"tools\", ToolNode(tools))\n",
        "\n",
        "\n",
        "# Add routing logic\n",
        "builder.add_edge(START, \"tool_calling_llm\")\n",
        "builder.add_conditional_edges(\"tool_calling_llm\", tools_condition)\n",
        "builder.add_edge(\"tools\", END)\n",
        "\n",
        "tool_router = builder.compile()\n",
        "display(Image(tool_router.get_graph().draw_mermaid_png()))\n",
        "result = tool_router.invoke({\"message\": \"give me all the data where the timhorizon is 4h\"})"
      ],
      "metadata": {
        "id": "3RhRn83UtrYC"
      },
      "execution_count": null,
      "outputs": []
    },
    {
      "cell_type": "code",
      "source": [],
      "metadata": {
        "id": "yxqqGBBVvuMB"
      },
      "execution_count": null,
      "outputs": []
    }
  ]
}