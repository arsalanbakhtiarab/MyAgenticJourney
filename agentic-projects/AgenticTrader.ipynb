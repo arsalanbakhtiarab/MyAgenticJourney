{
  "nbformat": 4,
  "nbformat_minor": 0,
  "metadata": {
    "colab": {
      "provenance": []
    },
    "kernelspec": {
      "name": "python3",
      "display_name": "Python 3"
    },
    "language_info": {
      "name": "python"
    }
  },
  "cells": [
    {
      "cell_type": "markdown",
      "source": [
        "# Install packages\n",
        "AgenticTrader"
      ],
      "metadata": {
        "id": "VaY7UNE8k6xN"
      }
    },
    {
      "cell_type": "code",
      "execution_count": 131,
      "metadata": {
        "id": "3TLhRWUydzWw"
      },
      "outputs": [],
      "source": [
        "%%capture --no-stderr\n",
        "!pip install -q langchain_google_genai langchain_core langchain_community tavily-python pydantic\n",
        "%pip install --quiet -U langgraph"
      ]
    },
    {
      "cell_type": "markdown",
      "source": [
        "# Import packages"
      ],
      "metadata": {
        "id": "7QS7VjInlmK8"
      }
    },
    {
      "cell_type": "code",
      "source": [
        "from pydantic import BaseModel\n",
        "from IPython.display import Image, display\n",
        "from langgraph.graph import StateGraph, START, END\n",
        "from langgraph.graph.state import CompiledStateGraph\n",
        "from langchain_google_genai import ChatGoogleGenerativeAI\n",
        "from langchain_core.messages import HumanMessage, AIMessage"
      ],
      "metadata": {
        "id": "D5av7O72k1Rm"
      },
      "execution_count": 132,
      "outputs": []
    },
    {
      "cell_type": "markdown",
      "source": [
        " # Set up authentication keys"
      ],
      "metadata": {
        "id": "bXbL1MQ_mJjF"
      }
    },
    {
      "cell_type": "code",
      "source": [
        "from google.colab import userdata\n",
        "GEMINI_API_KEY = userdata.get('GOOGLE_API_KEY')"
      ],
      "metadata": {
        "id": "QzlvydKqe5Ol"
      },
      "execution_count": 133,
      "outputs": []
    },
    {
      "cell_type": "code",
      "source": [
        "llm = ChatGoogleGenerativeAI(\n",
        "    model = \"gemini-2.0-flash\",\n",
        "    api_key = GEMINI_API_KEY,\n",
        "    temperature = 0)"
      ],
      "metadata": {
        "id": "u58PB6simTqw"
      },
      "execution_count": 134,
      "outputs": []
    },
    {
      "cell_type": "code",
      "source": [
        "llm.invoke(\"hi\")"
      ],
      "metadata": {
        "id": "9a__ykocm93F",
        "outputId": "95a87b3f-8b7a-4f83-cd35-f0e0f1b7b79c",
        "colab": {
          "base_uri": "https://localhost:8080/"
        }
      },
      "execution_count": 135,
      "outputs": [
        {
          "output_type": "execute_result",
          "data": {
            "text/plain": [
              "AIMessage(content='Hi there! How can I help you today?', additional_kwargs={}, response_metadata={'prompt_feedback': {'block_reason': 0, 'safety_ratings': []}, 'finish_reason': 'STOP', 'model_name': 'gemini-2.0-flash', 'safety_ratings': []}, id='run--6452f33e-ec0d-4eaa-9939-5a3f3c72cc20-0', usage_metadata={'input_tokens': 1, 'output_tokens': 11, 'total_tokens': 12, 'input_token_details': {'cache_read': 0}})"
            ]
          },
          "metadata": {},
          "execution_count": 135
        }
      ]
    },
    {
      "cell_type": "code",
      "source": [
        "messages = [\n",
        "    HumanMessage(content=\"Hi\", name=\"Human Student\"),\n",
        "    AIMessage(content='Hi! How can I help you today? \\n', name=\"AI Assistant\"),\n",
        "    HumanMessage(content=\"What is LangChain?\", name=\"Human Student\"),\n",
        "    AIMessage(content='LangChain is a framework for developing applications powered by language models.', name=\"AI Assistant\"),\n",
        "    HumanMessage(content=\"How can I learn\", name=\"Human Student\"),\n",
        "    ]\n",
        "\n",
        "response = llm.invoke(messages)\n",
        "messages.append(response)\n",
        "\n",
        "# for message in messages:\n",
        "#   message.pretty_print()"
      ],
      "metadata": {
        "id": "GAI3gsB1wqi3"
      },
      "execution_count": 136,
      "outputs": []
    },
    {
      "cell_type": "markdown",
      "source": [
        "# State\n",
        "\n",
        "First, define the State of the graph.\n",
        "\n",
        "The State schema serves as the input schema for all Nodes and Edges in the graph.\n",
        "\n",
        "Each node returns a new value of the state key graph_state.\n",
        "\n",
        "By default, the new value returned by each node will override the prior state value."
      ],
      "metadata": {
        "id": "BFkpsvO1zpMw"
      }
    },
    {
      "cell_type": "code",
      "source": [
        "class learning_state(BaseModel):\n",
        "  prompt : str"
      ],
      "metadata": {
        "id": "GsyCs_jqyEAh"
      },
      "execution_count": 137,
      "outputs": []
    },
    {
      "cell_type": "code",
      "source": [
        "# prompt: create an example from above LearningState\n",
        "state: learning_state = learning_state(prompt = \"hello from world\")\n",
        "print(state)\n",
        "print(state.prompt +\" I am\")\n",
        "print(state)\n",
        "print(type(state))"
      ],
      "metadata": {
        "colab": {
          "base_uri": "https://localhost:8080/"
        },
        "id": "7pP_29630BDy",
        "outputId": "308c407b-77ec-4b64-de5e-e699075aa281"
      },
      "execution_count": 138,
      "outputs": [
        {
          "output_type": "stream",
          "name": "stdout",
          "text": [
            "prompt='hello from world'\n",
            "hello from world I am\n",
            "prompt='hello from world'\n",
            "<class '__main__.learning_state'>\n"
          ]
        }
      ]
    },
    {
      "cell_type": "markdown",
      "source": [
        "# Nodes\n",
        "\n",
        "Nodes are just Python functions.\n",
        "\n",
        "The first positional argument is the state (a Pydantic model).\n",
        "\n",
        "Since the state is a Pydantic model, nodes can access fields like: state.graph_state.\n",
        "\n",
        "Each node returns a new instance of the state with an updated graph_state value.\n",
        "\n",
        "By default, this new value replaces the old one."
      ],
      "metadata": {
        "id": "1mtb38Gz48uL"
      }
    },
    {
      "cell_type": "code",
      "source": [
        "# For TypedDict\n",
        "\n",
        "# def node_1(state: learning_state) -> learning_state:\n",
        "#   print(\"---node 1 state ---\")\n",
        "#   return {\"prompt\" : state['prompt'] + \"i am\"}\n",
        "\n",
        "# def node_2(state: learning_state) -> learning_state:\n",
        "#   print(\"---node 2 state ---\")\n",
        "#   return {\"prompt\" : state['prompt'] + \"happy\"}\n",
        "\n",
        "# For pydantic\n",
        "\n",
        "def node_1(state: learning_state) -> learning_state:\n",
        "    print(\"---node 1 state ---\")\n",
        "    return learning_state(prompt=state.prompt + \" i am\")\n",
        "\n",
        "def node_2(state: learning_state) -> learning_state:\n",
        "    print(\"---node 2 state ---\")\n",
        "    return learning_state(prompt=state.prompt + \" happy\")\n"
      ],
      "metadata": {
        "id": "8eijbe8G1pgJ"
      },
      "execution_count": 139,
      "outputs": []
    },
    {
      "cell_type": "markdown",
      "source": [
        "# Edges\n",
        "Edges connect the nodes.\n",
        "\n",
        "Normal Edges are used if you want to always go from, for example, node_1 to node_2.\n",
        "\n",
        "# Graph Construction\n",
        "Now, we build the graph from our components defined above.\n",
        "\n",
        "The StateGraph class is the graph class that we can use.\n",
        "\n",
        "First, we initialize a StateGraph with the State class we defined above.\n",
        "\n",
        "Then, we add our nodes and edges.\n",
        "\n",
        "We use the START Node, a special node that sends user input to the graph, to indicate where to start our graph.\n",
        "\n",
        "The END Node is a special node that represents a terminal node.\n",
        "\n",
        "Finally, we compile our graph to perform a few basic checks on the graph structure.\n",
        "\n",
        "We can visualize the graph as a Mermaid diagram."
      ],
      "metadata": {
        "id": "O5A30ayr5wmx"
      }
    },
    {
      "cell_type": "code",
      "source": [
        "# Build graph\n",
        "builder: StateGraph = StateGraph(state_schema=learning_state)\n",
        "\n",
        "# Nodes\n",
        "builder.add_node(\"node_1\", node_1)\n",
        "builder.add_node(\"node_2\", node_2)\n",
        "\n",
        "# Simples Edges Logic\n",
        "builder.add_edge(START, \"node_1\")\n",
        "builder.add_edge(\"node_1\", \"node_2\")\n",
        "builder.add_edge(\"node_2\", END)\n",
        "\n",
        "# Add\n",
        "graph: CompiledStateGraph = builder.compile()\n",
        "\n",
        "# View\n",
        "display(Image(graph.get_graph().draw_mermaid_png()))\n"
      ],
      "metadata": {
        "colab": {
          "base_uri": "https://localhost:8080/",
          "height": 350
        },
        "id": "7hpgoGQz5qoZ",
        "outputId": "77996e99-6f59-477e-98ce-46444397d9d0"
      },
      "execution_count": 140,
      "outputs": [
        {
          "output_type": "display_data",
          "data": {
            "image/png": "[encoded data removed]",
            "text/plain": [
              "<IPython.core.display.Image object>"
            ]
          },
          "metadata": {}
        }
      ]
    },
    {
      "cell_type": "markdown",
      "source": [
        "# Graph Invocation\n",
        "The compiled graph implements the runnable protocol.\n",
        "\n",
        "This provides a standard way to execute LangChain components.\n",
        "\n",
        "invoke is one of the standard methods in this interface.\n",
        "\n",
        "The input is a dictionary {\"graph_state\": \"Hi, this is lance.\"}, which sets the initial value for our graph state dict.\n",
        "\n",
        "When invoke is called, the graph starts execution from the START node.\n",
        "\n",
        "It progresses through the defined nodes (node_1, node_2, node_3) in order.\n",
        "\n",
        "Each node function receives the current state and returns a new value, which overrides the graph state.\n",
        "\n",
        "The execution continues until it reaches the END node."
      ],
      "metadata": {
        "id": "hzrf9ScQQQY2"
      }
    },
    {
      "cell_type": "code",
      "source": [
        "graph.invoke({\"prompt\" : \"Hi\"})"
      ],
      "metadata": {
        "colab": {
          "base_uri": "https://localhost:8080/"
        },
        "id": "uPYjBW6KP5rm",
        "outputId": "051e7442-8c4d-4664-efa1-5f6dacf693d6"
      },
      "execution_count": 141,
      "outputs": [
        {
          "output_type": "stream",
          "name": "stdout",
          "text": [
            "---node 1 state ---\n",
            "---node 2 state ---\n"
          ]
        },
        {
          "output_type": "execute_result",
          "data": {
            "text/plain": [
              "{'prompt': 'Hi i am happy'}"
            ]
          },
          "metadata": {},
          "execution_count": 141
        }
      ]
    },
    {
      "cell_type": "markdown",
      "source": [
        "# Conditional Edges\n",
        "Conditional Edges are used want to optionally route between nodes.\n",
        "\n",
        "Conditional edges are implemented as functions that return the next node to visit based upon some logic."
      ],
      "metadata": {
        "id": "Bgsjn5C2SdXf"
      }
    },
    {
      "cell_type": "code",
      "source": [
        "class learning_state(BaseModel):\n",
        "    prompt: str\n",
        "\n",
        "def node_1(state: learning_state) -> learning_state:\n",
        "    print(\"---node 1 state ---\")\n",
        "    return learning_state(prompt=state.prompt + \" i am\")\n",
        "\n",
        "def node_2(state: learning_state) -> learning_state:\n",
        "    print(\"---node 2 state ---\")\n",
        "    return learning_state(prompt=state.prompt + \" happy\")\n",
        "\n",
        "def node_3(state: learning_state) -> learning_state:\n",
        "    print(\"---node 3 state ---\")\n",
        "    return learning_state(prompt=state.prompt + \" sad\")"
      ],
      "metadata": {
        "id": "iTdAI01-QYUO"
      },
      "execution_count": 156,
      "outputs": []
    },
    {
      "cell_type": "code",
      "source": [
        "import random\n",
        "from typing import Literal\n",
        "\n",
        "def decide_mood(state: learning_state) -> Literal[\"node_2\", \"node_3\"]:\n",
        "\n",
        "    # Often, we will use state to decide on the next node to visit\n",
        "    user_input = state.prompt\n",
        "\n",
        "    # Here, let's just do a 50 / 50 split between nodes 2, 3\n",
        "    if random.random() < 0.5:\n",
        "\n",
        "        # 50% of the time, we return Node 2\n",
        "        return \"node_2\"\n",
        "\n",
        "    # 50% of the time, we return Node 3\n",
        "    return \"node_3\""
      ],
      "metadata": {
        "id": "NtR4JLqpS_K_"
      },
      "execution_count": 160,
      "outputs": []
    },
    {
      "cell_type": "code",
      "source": [
        "# Build Graph\n",
        "builder : StateGraph = StateGraph(learning_state)\n",
        "builder.add_node(\"node_1\", node_1)\n",
        "builder.add_node(\"node_2\", node_2)\n",
        "builder.add_node(\"node_3\", node_3)\n",
        "\n",
        "# Logic\n",
        "builder.add_edge(START, \"node_1\")\n",
        "builder.add_conditional_edges(\"node_1\", decide_mood)\n",
        "builder.add_edge(\"node_2\", END)\n",
        "builder.add_edge(\"node_3\", END)\n",
        "\n",
        "\n",
        "graph : CompiledStateGraph = builder.compile()\n",
        "\n",
        "# View\n",
        "display(Image(graph.get_graph().draw_mermaid_png()))"
      ],
      "metadata": {
        "colab": {
          "base_uri": "https://localhost:8080/",
          "height": 350
        },
        "id": "6HHaJSETTxln",
        "outputId": "e3b24c64-9acd-450e-a758-e17a770904a2"
      },
      "execution_count": 161,
      "outputs": [
        {
          "output_type": "display_data",
          "data": {
            "image/png": "[encoded data removed]",
            "text/plain": [
              "<IPython.core.display.Image object>"
            ]
          },
          "metadata": {}
        }
      ]
    },
    {
      "cell_type": "code",
      "source": [
        "graph.invoke({\"prompt\": \"Hi, this is Lance.\"})"
      ],
      "metadata": {
        "colab": {
          "base_uri": "https://localhost:8080/"
        },
        "id": "syAM0V3sUJFA",
        "outputId": "d66ece40-7f08-4998-9cc1-a207f0910f97"
      },
      "execution_count": 172,
      "outputs": [
        {
          "output_type": "stream",
          "name": "stdout",
          "text": [
            "---node 1 state ---\n",
            "---node 2 state ---\n"
          ]
        },
        {
          "output_type": "execute_result",
          "data": {
            "text/plain": [
              "{'prompt': 'Hi, this is Lance. i am happy'}"
            ]
          },
          "metadata": {},
          "execution_count": 172
        }
      ]
    },
    {
      "cell_type": "markdown",
      "source": [
        "# Messages\n",
        "Chat models can use messages, which capture different roles within a conversation.\n",
        "\n",
        "LangChain supports various message types, including HumanMessage, AIMessage, SystemMessage, and ToolMessage.\n",
        "\n",
        "These represent a message from the user, from chat model, for the chat model to instruct behavior, and from a tool call.\n",
        "\n",
        "Let's create a list of messages.\n",
        "\n",
        "Each message can be supplied with a few things:\n",
        "\n",
        "content - content of the message\n",
        "name - optionally, a message author\n",
        "response_metadata - optionally, a dict of metadata (e.g., often populated by model provider for AIMessages)"
      ],
      "metadata": {
        "id": "3DxdiFyogEVK"
      }
    },
    {
      "cell_type": "markdown",
      "source": [
        "# Tools\n",
        "Tools are useful whenever you want a model to interact with external systems.\n",
        "\n",
        "External systems (e.g., APIs) often require a particular input schema or payload, rather than natural language.\n",
        "\n",
        "When we bind an API, for example, as a tool we given the model awareness of the required input schema.\n",
        "\n",
        "The model will choose to call a tool based upon the natural language input from the user.\n",
        "\n",
        "And, it will return an output that adheres to the tool's schema.\n",
        "\n",
        "Many LLM providers support tool calling and tool calling interface in LangChain is simple.\n",
        "\n",
        "You can simply pass any Python function into ChatModel.bind_tools(function)."
      ],
      "metadata": {
        "id": "WVDevpkNhEji"
      }
    },
    {
      "cell_type": "code",
      "source": [],
      "metadata": {
        "id": "fJQXwqIZU8oX"
      },
      "execution_count": 174,
      "outputs": []
    },
    {
      "cell_type": "code",
      "source": [],
      "metadata": {
        "id": "Dsy1JUgugRfa"
      },
      "execution_count": null,
      "outputs": []
    }
  ]
}