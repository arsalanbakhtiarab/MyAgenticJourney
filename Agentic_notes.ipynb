{
  "nbformat": 4,
  "nbformat_minor": 0,
  "metadata": {
    "colab": {
      "provenance": [],
      "authorship_tag": "ABX9TyOxS4S6MyZvbn6Gh0AwW5kA",
      "include_colab_link": true
    },
    "kernelspec": {
      "name": "python3",
      "display_name": "Python 3"
    },
    "language_info": {
      "name": "python"
    }
  },
  "cells": [
    {
      "cell_type": "markdown",
      "metadata": {
        "id": "view-in-github",
        "colab_type": "text"
      },
      "source": [
        "<a href=\"https://colab.research.google.com/github/arsalanbakhtiarab/MyAgenticJourney/blob/main/Agentic_notes.ipynb\" target=\"_parent\"><img src=\"https://colab.research.google.com/assets/colab-badge.svg\" alt=\"Open In Colab\"/></a>"
      ]
    },
    {
      "cell_type": "markdown",
      "source": [],
      "metadata": {
        "id": "PB66KAnuT8IM"
      }
    },
    {
      "cell_type": "markdown",
      "source": [
        "# 🧠 Agentic AI with LangGraph - Complete Tutorial\n",
        "\n",
        "**By the end of this notebook, you will be able to:**\n",
        "* Understand how LangGraph supports agentic workflows\n",
        "* Implement agents with memory and multi-step planning  \n",
        "* Build, visualize, and run LangGraphs with tools\n",
        "* Grasp core principles of designing autonomous agents\n",
        "* Create ReAct architecture for iterative reasoning\n",
        "\n",
        "---\n",
        "\n",
        "## 🔧 Step 1: Setup and Installation\n",
        "\n",
        "### Install Required Packages\n",
        "\n",
        "To build and run LangGraph-based agents, we need several key libraries:\n",
        "\n",
        "* `langchain_google_genai`, `langchain_core`, `langchain_community`: Modules that provide the LLM interface and tools\n",
        "* `tavily-python`: For web search integration  \n",
        "* `pydantic`: For data validation and structured outputs\n",
        "* `langgraph`: Core library to construct stateful, agentic workflows"
      ],
      "metadata": {
        "id": "EQrqlxCydxCf"
      }
    },
    {
      "cell_type": "code",
      "source": [
        "# Install all required packages\n",
        "%pip install --quiet -U langchain_google_genai langchain_core langchain_community\n",
        "%pip install --quiet -U tavily-python pydantic langgraph"
      ],
      "metadata": {
        "id": "xlTqn2SlVvSX"
      },
      "execution_count": 20,
      "outputs": []
    },
    {
      "cell_type": "markdown",
      "source": [
        "### 📦 Import Essential Libraries"
      ],
      "metadata": {
        "id": "CIU25k0ad6Zu"
      }
    },
    {
      "cell_type": "code",
      "source": [
        "import os\n",
        "import random\n",
        "from typing import Literal\n",
        "from pprint import pprint\n",
        "\n",
        "from pydantic import BaseModel\n",
        "from IPython.display import Image, display\n",
        "\n",
        "# LangGraph imports\n",
        "from langgraph.graph import StateGraph, START, END, MessagesState\n",
        "from langgraph.graph.state import CompiledStateGraph\n",
        "from langgraph.prebuilt import ToolNode, tools_condition\n",
        "from langgraph.checkpoint.memory import MemorySaver\n",
        "\n",
        "# LangChain imports\n",
        "from langchain_google_genai import ChatGoogleGenerativeAI\n",
        "from langchain_core.messages import HumanMessage, AIMessage, SystemMessage"
      ],
      "metadata": {
        "id": "9etkh_Q-d0D9"
      },
      "execution_count": 19,
      "outputs": []
    },
    {
      "cell_type": "markdown",
      "source": [
        "### 🔑 Authentication Setup\n",
        "We retrieve the API key for Google Generative AI and initialize the model:"
      ],
      "metadata": {
        "id": "8bEY6Y0heAya"
      }
    },
    {
      "cell_type": "code",
      "source": [
        "# For Google Colab users\n",
        "from google.colab import userdata\n",
        "GEMINI_API_KEY = userdata.get('GOOGLE_API_KEY')\n",
        "\n",
        "# For local environment users (uncomment if needed)\n",
        "# import getpass\n",
        "# GEMINI_API_KEY = getpass.getpass(\"Enter your Gemini API key: \")\n",
        "\n",
        "# Initialize the language model\n",
        "llm = ChatGoogleGenerativeAI(\n",
        "    model=\"gemini-2.0-flash\",\n",
        "    api_key=GEMINI_API_KEY,\n",
        "    temperature=0\n",
        ")\n",
        "\n",
        "# Test the model connection\n",
        "print(\"Testing LLM connection...\")\n",
        "response = llm.invoke(\"Hello! Can you confirm you're working?\")\n",
        "print(f\"Response: {response.content}\")"
      ],
      "metadata": {
        "colab": {
          "base_uri": "https://localhost:8080/"
        },
        "id": "PYKyq7vRd9mW",
        "outputId": "c5ce192a-a93b-4163-8553-dc2a819ea23f"
      },
      "execution_count": 22,
      "outputs": [
        {
          "output_type": "stream",
          "name": "stdout",
          "text": [
            "Testing LLM connection...\n",
            "Response: Yes, I am working. How can I help you?\n"
          ]
        }
      ]
    },
    {
      "cell_type": "markdown",
      "source": [
        "## 🧾 Step 2: Define State and Basic Graph Construction\n",
        "\n",
        "### Define the State Schema\n",
        "\n",
        "The State schema serves as the input schema for all Nodes and Edges in the graph:\n",
        "\n",
        "* Each node returns a new value of the state key `graph_state`\n",
        "* By default, the new value returned by each node will override the prior state value\n",
        "* State must be a Pydantic model for type safety"
      ],
      "metadata": {
        "id": "8EdCPjk7eP-V"
      }
    },
    {
      "cell_type": "code",
      "source": [
        "class LearningState(BaseModel):\n",
        "    prompt: str\n",
        "\n",
        "# Create an example instance of learning_state\n",
        "state = LearningState(prompt=\"Hello from LangGraph\")\n",
        "print(f\"State: {state}\")\n",
        "print(f\"Prompt: {state.prompt}\")\n",
        "print(f\"State type: {type(state)}\")"
      ],
      "metadata": {
        "colab": {
          "base_uri": "https://localhost:8080/"
        },
        "id": "0K9mfqsPeHb_",
        "outputId": "314aba6d-2998-4551-94a8-8cb733e457f6"
      },
      "execution_count": 23,
      "outputs": [
        {
          "output_type": "stream",
          "name": "stdout",
          "text": [
            "State: prompt='Hello from LangGraph'\n",
            "Prompt: Hello from LangGraph\n",
            "State type: <class '__main__.LearningState'>\n"
          ]
        }
      ]
    },
    {
      "cell_type": "markdown",
      "source": [
        " 🔄 Define Nodes\n",
        "\n",
        "Nodes are just Python functions with these characteristics:\n",
        "\n",
        "* The first positional argument is the state (a Pydantic model)\n",
        "* Since the state is a Pydantic model, nodes can access fields like: `state.prompt`\n",
        "* Each node returns a new instance of the state with an updated value\n",
        "* By default, this new value replaces the old one"
      ],
      "metadata": {
        "id": "zq7xLi6QeUDG"
      }
    },
    {
      "cell_type": "code",
      "source": [
        "def node_1(state: LearningState) -> LearningState:\n",
        "    print(\"--- Executing Node 1 ---\")\n",
        "    return LearningState(prompt=state.prompt + \" I am\")\n",
        "\n",
        "def node_2(state: LearningState) -> LearningState:\n",
        "    print(\"--- Executing Node 2 ---\")\n",
        "    return LearningState(prompt=state.prompt + \" learning\")\n",
        ""
      ],
      "metadata": {
        "id": "-dE_tSbDeafX"
      },
      "execution_count": 24,
      "outputs": []
    },
    {
      "cell_type": "markdown",
      "source": [
        "### 🔗 Build Linear Graph\n",
        "\n",
        "Edges connect the nodes with these rules:\n",
        "\n",
        "* Normal Edges are used if you want to always go from one node to another\n",
        "* We use the `START` Node, a special node that sends user input to the graph\n",
        "* The `END` Node is a special node that represents a terminal node\n",
        "* Finally, we compile our graph to perform basic checks on the graph structure"
      ],
      "metadata": {
        "id": "Jt3uNL5feSp3"
      }
    },
    {
      "cell_type": "code",
      "source": [
        "# Build linear graph\n",
        "builder = StateGraph(state_schema=LearningState)\n",
        "\n",
        "# Add nodes\n",
        "builder.add_node(\"node_1\", node_1)\n",
        "builder.add_node(\"node_2\", node_2)\n",
        "\n",
        "# Add simple edges\n",
        "builder.add_edge(START, \"node_1\")\n",
        "builder.add_edge(\"node_1\", \"node_2\")\n",
        "builder.add_edge(\"node_2\", END)\n",
        "\n",
        "# Compile and visualize\n",
        "linear_graph = builder.compile()\n",
        "display(Image(linear_graph.get_graph().draw_mermaid_png()))\n",
        "\n",
        "# Execute the graph\n",
        "result = linear_graph.invoke({\"prompt\": \"Hi\"})\n",
        "print(f\"Final result: {result}\")"
      ],
      "metadata": {
        "colab": {
          "base_uri": "https://localhost:8080/",
          "height": 405
        },
        "id": "i3GweIYNedpl",
        "outputId": "9ff9c03f-f1ad-434f-96ce-51344dd9593e"
      },
      "execution_count": 25,
      "outputs": [
        {
          "output_type": "display_data",
          "data": {
            "image/png": "[encoded data removed]",
            "text/plain": [
              "<IPython.core.display.Image object>"
            ]
          },
          "metadata": {}
        },
        {
          "output_type": "stream",
          "name": "stdout",
          "text": [
            "--- Executing Node 1 ---\n",
            "--- Executing Node 2 ---\n",
            "Final result: {'prompt': 'Hi I am learning'}\n"
          ]
        }
      ]
    },
    {
      "cell_type": "markdown",
      "source": [
        "## 🔁 Step 3: Conditional Edges and Routing\n",
        "\n",
        "### Understanding Conditional Edges\n",
        "\n",
        "Conditional Edges are used when you want to optionally route between nodes:\n",
        "\n",
        "* Conditional edges are implemented as functions that return the next node to visit\n",
        "* The routing decision is based on the current state\n",
        "* This enables dynamic workflow control based on data or conditions"
      ],
      "metadata": {
        "id": "82kxCJvFevzm"
      }
    },
    {
      "cell_type": "code",
      "source": [
        "def node_happy(state: LearningState) -> LearningState:\n",
        "    print(\"--- Happy Path ---\")\n",
        "    return LearningState(prompt=state.prompt + \" happy\")\n",
        "\n",
        "def node_sad(state: LearningState) -> LearningState:\n",
        "    print(\"--- Sad Path ---\")\n",
        "    return LearningState(prompt=state.prompt + \" sad\")\n",
        "\n",
        "def decide_mood(state: LearningState) -> Literal[\"node_happy\", \"node_sad\"]:\n",
        "    \"\"\"\n",
        "    Routing function that decides which path to take:\n",
        "    * Often, we will use state to decide on the next node to visit\n",
        "    * Here, we do a 50/50 split between happy and sad paths\n",
        "    * Returns the name of the next node to execute\n",
        "    \"\"\"\n",
        "    user_input = state.prompt\n",
        "\n",
        "    if random.random() < 0.5:\n",
        "        return \"node_happy\"  # 50% of the time, go to happy node\n",
        "    else:\n",
        "        return \"node_sad\"    # 50% of the time, go to sad node"
      ],
      "metadata": {
        "id": "FodHHVtRensO"
      },
      "execution_count": 26,
      "outputs": []
    },
    {
      "cell_type": "markdown",
      "source": [
        "### Build Conditional Graph"
      ],
      "metadata": {
        "id": "2r7MO2Oye0R-"
      }
    },
    {
      "cell_type": "code",
      "source": [
        "# Build conditional routing graph\n",
        "builder = StateGraph(LearningState)\n",
        "\n",
        "# Add all nodes\n",
        "builder.add_node(\"node_1\", node_1)\n",
        "builder.add_node(\"node_happy\", node_happy)\n",
        "builder.add_node(\"node_sad\", node_sad)\n",
        "\n",
        "# Add routing logic\n",
        "builder.add_edge(START, \"node_1\")\n",
        "builder.add_conditional_edges(\"node_1\", decide_mood)\n",
        "builder.add_edge(\"node_happy\", END)\n",
        "builder.add_edge(\"node_sad\", END)\n",
        "\n",
        "conditional_graph = builder.compile()\n",
        "display(Image(conditional_graph.get_graph().draw_mermaid_png()))\n",
        "\n",
        "# Test multiple executions to see different paths\n",
        "print(\"=== Testing Conditional Routing ===\")\n",
        "for i in range(3):\n",
        "    result = conditional_graph.invoke({\"prompt\": f\"Test {i+1}\"})\n",
        "    print(f\"Execution {i+1}: {result['prompt']}\")"
      ],
      "metadata": {
        "colab": {
          "base_uri": "https://localhost:8080/",
          "height": 535
        },
        "id": "GhK1VpFJeybF",
        "outputId": "e918c5e8-832d-4a36-c977-77886f52d94a"
      },
      "execution_count": 27,
      "outputs": [
        {
          "output_type": "display_data",
          "data": {
            "image/png": "[encoded data removed]",
            "text/plain": [
              "<IPython.core.display.Image object>"
            ]
          },
          "metadata": {}
        },
        {
          "output_type": "stream",
          "name": "stdout",
          "text": [
            "=== Testing Conditional Routing ===\n",
            "--- Executing Node 1 ---\n",
            "--- Happy Path ---\n",
            "Execution 1: Test 1 I am happy\n",
            "--- Executing Node 1 ---\n",
            "--- Happy Path ---\n",
            "Execution 2: Test 2 I am happy\n",
            "--- Executing Node 1 ---\n",
            "--- Sad Path ---\n",
            "Execution 3: Test 3 I am sad\n"
          ]
        }
      ]
    },
    {
      "cell_type": "markdown",
      "source": [
        "## 💬 Step 4: Working with Messages\n",
        "\n",
        "### Understanding Message Types\n",
        "\n",
        "Chat models can use messages, which capture different roles within a conversation:\n",
        "\n",
        "* `HumanMessage`: Represents a message from the user\n",
        "* `AIMessage`: Represents a message from the chat model  \n",
        "* `SystemMessage`: Instructions for the chat model to guide behavior\n",
        "* `ToolMessage`: Represents output from a tool call\n",
        "\n",
        "Each message can be supplied with:\n",
        "* `content`: Content of the message\n",
        "* `name`: Optionally, a message author\n",
        "* `response_metadata`: Optionally, a dict of metadata\""
      ],
      "metadata": {
        "id": "xYozDb8PfJR9"
      }
    },
    {
      "cell_type": "code",
      "source": [
        "# Create a conversation with different message types\n",
        "messages = [\n",
        "    AIMessage(content=\"So you said you were researching ocean mammals?\", name=\"Model\"),\n",
        "    HumanMessage(content=\"Yes, that's right.\", name=\"Arsalan\"),\n",
        "    AIMessage(content=\"Great, what would you like to learn about?\", name=\"Model\"),\n",
        "    HumanMessage(content=\"I want to learn about the best place to see Orcas in the US.\", name=\"Arsalan\")\n",
        "]\n",
        "\n",
        "print(\"=== Message Conversation ===\")\n",
        "for message in messages:\n",
        "    message.pretty_print()"
      ],
      "metadata": {
        "colab": {
          "base_uri": "https://localhost:8080/"
        },
        "id": "46Q1KkYKfFJG",
        "outputId": "58cad54f-3a40-4771-a495-5563e138b19e"
      },
      "execution_count": 30,
      "outputs": [
        {
          "output_type": "stream",
          "name": "stdout",
          "text": [
            "=== Message Conversation ===\n",
            "==================================\u001b[1m Ai Message \u001b[0m==================================\n",
            "Name: Model\n",
            "\n",
            "So you said you were researching ocean mammals?\n",
            "================================\u001b[1m Human Message \u001b[0m=================================\n",
            "Name: Arsalan\n",
            "\n",
            "Yes, that's right.\n",
            "==================================\u001b[1m Ai Message \u001b[0m==================================\n",
            "Name: Model\n",
            "\n",
            "Great, what would you like to learn about?\n",
            "================================\u001b[1m Human Message \u001b[0m=================================\n",
            "Name: Arsalan\n",
            "\n",
            "I want to learn about the best place to see Orcas in the US.\n"
          ]
        }
      ]
    },
    {
      "cell_type": "markdown",
      "source": [
        "## 🛠️ Step 5: Tools and Function Calling\n",
        "\n",
        "### Understanding Tools\n",
        "\n",
        "Tools are useful whenever you want a model to interact with external systems:\n",
        "\n",
        "* External systems (APIs) often require a particular input schema, not natural language\n",
        "* When we bind an API as a tool, we give the model awareness of the required input schema\n",
        "* The model will choose to call a tool based upon natural language input from the user\n",
        "* It returns an output that adheres to the tool's schema\n",
        "* Many LLM providers support tool calling through LangChain's simple interface\n",
        "\n",
        "### Define Mathematical Tools"
      ],
      "metadata": {
        "id": "MmI4SFn1fZSX"
      }
    },
    {
      "cell_type": "code",
      "source": [
        "def multiply(a: int, b: int) -> int:\n",
        "    \"\"\"Multiply two integers.\n",
        "\n",
        "    Args:\n",
        "        a: First integer\n",
        "        b: Second integer\n",
        "\n",
        "    Returns:\n",
        "        Product of a and b\n",
        "    \"\"\"\n",
        "    return a * b\n",
        "\n",
        "def add(a: int, b: int) -> int:\n",
        "    \"\"\"Add two integers.\n",
        "\n",
        "    Args:\n",
        "        a: First integer\n",
        "        b: Second integer\n",
        "\n",
        "    Returns:\n",
        "        Sum of a and b\n",
        "    \"\"\"\n",
        "    return a + b\n",
        "\n",
        "def divide(a: int, b: int) -> float:\n",
        "    \"\"\"Divide two numbers.\n",
        "\n",
        "    Args:\n",
        "        a: Dividend\n",
        "        b: Divisor\n",
        "\n",
        "    Returns:\n",
        "        Result of a divided by b\n",
        "    \"\"\"\n",
        "    if b == 0:\n",
        "        raise ValueError(\"Cannot divide by zero\")\n",
        "    return a / b\n",
        "\n",
        "# Bind tools to the model\n",
        "tools = [add, multiply, divide]\n",
        "llm_with_tools = llm.bind_tools(tools)"
      ],
      "metadata": {
        "id": "TbRNOmt4fOGO"
      },
      "execution_count": 32,
      "outputs": []
    },
    {
      "cell_type": "markdown",
      "source": [
        "### 🔁 Router: Tool Call vs Direct Response\n",
        "\n",
        "We can think of this as a **router**, where the **chat model decides** whether to:\n",
        "\n",
        "* Directly **respond to the user**, or  \n",
        "* **Invoke a tool** based on the user input\n",
        "\n",
        "This is a **simple example of an agent**, where the LLM directs the **control flow**.\n",
        "\n",
        "Key LangGraph concepts for tool integration:\n",
        "* `ToolNode`: A node that performs tool execution\n",
        "* `tools_condition`: A conditional edge that checks if a tool was requested"
      ],
      "metadata": {
        "id": "Krlt1gymfic1"
      }
    },
    {
      "cell_type": "code",
      "source": [
        "def tool_calling_llm(state: MessagesState) -> MessagesState:\n",
        "    \"\"\"Node that invokes the LLM with tool capabilities\"\"\"\n",
        "    return {\"messages\": [llm_with_tools.invoke(state[\"messages\"])]}\n",
        "\n",
        "# Build tool router graph\n",
        "builder = StateGraph(MessagesState)\n",
        "builder.add_node(\"tool_calling_llm\", tool_calling_llm)\n",
        "builder.add_node(\"tools\", ToolNode(tools))\n",
        "\n",
        "# Add routing logic\n",
        "builder.add_edge(START, \"tool_calling_llm\")\n",
        "builder.add_conditional_edges(\"tool_calling_llm\", tools_condition)\n",
        "builder.add_edge(\"tools\", END)\n",
        "\n",
        "tool_router = builder.compile()\n",
        "display(Image(tool_router.get_graph().draw_mermaid_png()))"
      ],
      "metadata": {
        "colab": {
          "base_uri": "https://localhost:8080/",
          "height": 350
        },
        "id": "AlextZ36f3u2",
        "outputId": "3ac971f5-402a-43c0-f8be-67ee15c98320"
      },
      "execution_count": 33,
      "outputs": [
        {
          "output_type": "display_data",
          "data": {
            "image/png": "[encoded data removed]",
            "text/plain": [
              "<IPython.core.display.Image object>"
            ]
          },
          "metadata": {}
        }
      ]
    },
    {
      "cell_type": "markdown",
      "source": [
        "### Test Tool Usage\n"
      ],
      "metadata": {
        "id": "CffgFQPkfXqO"
      }
    },
    {
      "cell_type": "code",
      "source": [
        "print(\"=== Tool Router Examples ===\")\n",
        "\n",
        "# Example 1: Math calculation\n",
        "messages = [HumanMessage(content=\"What is 6 multiplied by 7?\")]\n",
        "result = tool_router.invoke({\"messages\": messages})\n",
        "\n",
        "print(\"--- Math Calculation ---\")\n",
        "for message in result['messages']:\n",
        "    message.pretty_print()\n",
        "\n",
        "print(\"\\n--- Addition Example ---\")\n",
        "messages = [HumanMessage(content=\"Add 15 and 28\")]\n",
        "result = tool_router.invoke({\"messages\": messages})\n",
        "\n",
        "for message in result['messages']:\n",
        "    message.pretty_print()"
      ],
      "metadata": {
        "colab": {
          "base_uri": "https://localhost:8080/"
        },
        "id": "VjWdFj3if-rm",
        "outputId": "07a93caa-d09f-4f07-d8c2-1470e36ef0a6"
      },
      "execution_count": 34,
      "outputs": [
        {
          "output_type": "stream",
          "name": "stdout",
          "text": [
            "=== Tool Router Examples ===\n",
            "--- Math Calculation ---\n",
            "================================\u001b[1m Human Message \u001b[0m=================================\n",
            "\n",
            "What is 6 multiplied by 7?\n",
            "==================================\u001b[1m Ai Message \u001b[0m==================================\n",
            "Tool Calls:\n",
            "  multiply (0013b444-6a90-4940-b01f-6d2b45a7e6cb)\n",
            " Call ID: 0013b444-6a90-4940-b01f-6d2b45a7e6cb\n",
            "  Args:\n",
            "    a: 6.0\n",
            "    b: 7.0\n",
            "=================================\u001b[1m Tool Message \u001b[0m=================================\n",
            "Name: multiply\n",
            "\n",
            "42\n",
            "\n",
            "--- Addition Example ---\n",
            "================================\u001b[1m Human Message \u001b[0m=================================\n",
            "\n",
            "Add 15 and 28\n",
            "==================================\u001b[1m Ai Message \u001b[0m==================================\n",
            "Tool Calls:\n",
            "  add (8a24ecc7-4776-4c0b-a946-3d59c2e9dece)\n",
            " Call ID: 8a24ecc7-4776-4c0b-a946-3d59c2e9dece\n",
            "  Args:\n",
            "    a: 15.0\n",
            "    b: 28.0\n",
            "=================================\u001b[1m Tool Message \u001b[0m=================================\n",
            "Name: add\n",
            "\n",
            "43\n"
          ]
        }
      ]
    },
    {
      "cell_type": "markdown",
      "source": [
        "## 🤖 Step 6: ReAct Agent with Iterative Tool Use\n",
        "\n",
        "### 🔍 Understanding ReAct Architecture\n",
        "\n",
        "We extend the router to a **generic agent architecture**:\n",
        "\n",
        "* Instead of ending after a tool call, **pass the ToolMessage back to the model**\n",
        "* The model can then:\n",
        "  1. **Call another tool** (act)\n",
        "  2. **Respond directly** (respond)\n",
        "\n",
        "This cycle models the **ReAct architecture**:\n",
        "* **Act**: Model calls a tool\n",
        "* **Observe**: Pass tool output back to model  \n",
        "* **Reason**: Model reasons about tool output and decides next step\n",
        "\n",
        "This loop allows more complex, chained reasoning and tool usage.\n",
        "\n",
        "### 🎯 Goals of ReAct Agent\n",
        "\n",
        "The ReAct agent enables:\n",
        "* **Multi-step problem solving**: Break complex problems into steps\n",
        "* **Tool chaining**: Use output of one tool as input to another\n",
        "* **Iterative reasoning**: Continuously evaluate and adjust approach\n",
        "* **Flexible decision making**: Choose when to use tools vs respond directly\n",
        "\n",
        "### Build ReAct Agent"
      ],
      "metadata": {
        "id": "yxCv0bOdgBqY"
      }
    },
    {
      "cell_type": "code",
      "source": [
        "# System prompt for agent behavior\n",
        "sys_msg = SystemMessage(content=\"\"\"You are a helpful assistant tasked with performing arithmetic operations.\n",
        "Work step by step and use the available tools to solve complex problems.\n",
        "Show your reasoning process clearly.\"\"\")\n",
        "\n",
        "def assistant(state: MessagesState) -> MessagesState:\n",
        "    \"\"\"Assistant node that processes messages with tool capabilities\"\"\"\n",
        "    return {\"messages\": [llm_with_tools.invoke([sys_msg] + state[\"messages\"])]}\n",
        "\n",
        "# Build ReAct agent graph\n",
        "builder = StateGraph(MessagesState)\n",
        "builder.add_node(\"assistant\", assistant)\n",
        "builder.add_node(\"tools\", ToolNode(tools))\n",
        "\n",
        "# Create the ReAct loop\n",
        "builder.add_edge(START, \"assistant\")\n",
        "builder.add_conditional_edges(\"assistant\", tools_condition)\n",
        "builder.add_edge(\"tools\", \"assistant\")  # This creates the iterative loop\n",
        "\n",
        "react_agent = builder.compile()\n",
        "display(Image(react_agent.get_graph(xray=True).draw_mermaid_png()))"
      ],
      "metadata": {
        "colab": {
          "base_uri": "https://localhost:8080/",
          "height": 266
        },
        "id": "cIkLsWDjgG4W",
        "outputId": "658a379b-b3f9-4abf-b1ec-19f491179605"
      },
      "execution_count": 36,
      "outputs": [
        {
          "output_type": "display_data",
          "data": {
            "image/png": "[encoded data removed]",
            "text/plain": [
              "<IPython.core.display.Image object>"
            ]
          },
          "metadata": {}
        }
      ]
    },
    {
      "cell_type": "markdown",
      "source": [
        "### Test Multi-Step Reasoning"
      ],
      "metadata": {
        "id": "i4QZfAH3gRbX"
      }
    },
    {
      "cell_type": "code",
      "source": [
        "print(\"=== Multi-Step Arithmetic Test ===\")\n",
        "\n",
        "# Complex calculation requiring multiple steps\n",
        "messages = [HumanMessage(content=\"Add 3 and 4, then multiply the result by 2, then divide by 5.\")]\n",
        "result = react_agent.invoke({\"messages\": messages})\n",
        "\n",
        "print(\"ReAct Agent Execution:\")\n",
        "for message in result['messages']:\n",
        "    message.pretty_print()\n",
        "    print(\"---\")\n",
        "\n",
        "print(\"\\n=== Another Complex Example ===\")\n",
        "messages = [HumanMessage(content=\"Calculate (15 + 25) * 3, then divide the result by 6\")]\n",
        "result = react_agent.invoke({\"messages\": messages})\n",
        "\n",
        "for message in result['messages']:\n",
        "    message.pretty_print()\n",
        "    print(\"---\")"
      ],
      "metadata": {
        "colab": {
          "base_uri": "https://localhost:8080/"
        },
        "id": "Q8_KzK44gVLP",
        "outputId": "63e9d463-5e98-411a-8622-40e71abd9f0d"
      },
      "execution_count": 37,
      "outputs": [
        {
          "output_type": "stream",
          "name": "stdout",
          "text": [
            "=== Multi-Step Arithmetic Test ===\n",
            "ReAct Agent Execution:\n",
            "================================\u001b[1m Human Message \u001b[0m=================================\n",
            "\n",
            "Add 3 and 4, then multiply the result by 2, then divide by 5.\n",
            "---\n",
            "==================================\u001b[1m Ai Message \u001b[0m==================================\n",
            "Tool Calls:\n",
            "  add (0af204f8-07c9-429e-bad7-1b32d91ef7a8)\n",
            " Call ID: 0af204f8-07c9-429e-bad7-1b32d91ef7a8\n",
            "  Args:\n",
            "    a: 3.0\n",
            "    b: 4.0\n",
            "---\n",
            "=================================\u001b[1m Tool Message \u001b[0m=================================\n",
            "Name: add\n",
            "\n",
            "7\n",
            "---\n",
            "==================================\u001b[1m Ai Message \u001b[0m==================================\n",
            "Tool Calls:\n",
            "  multiply (7ad988e5-9f52-4263-a06a-1bfc5c08496a)\n",
            " Call ID: 7ad988e5-9f52-4263-a06a-1bfc5c08496a\n",
            "  Args:\n",
            "    a: 7.0\n",
            "    b: 2.0\n",
            "---\n",
            "=================================\u001b[1m Tool Message \u001b[0m=================================\n",
            "Name: multiply\n",
            "\n",
            "14\n",
            "---\n",
            "==================================\u001b[1m Ai Message \u001b[0m==================================\n",
            "Tool Calls:\n",
            "  divide (8c771583-a381-4c93-9956-817c35007a95)\n",
            " Call ID: 8c771583-a381-4c93-9956-817c35007a95\n",
            "  Args:\n",
            "    a: 14.0\n",
            "    b: 5.0\n",
            "---\n",
            "=================================\u001b[1m Tool Message \u001b[0m=================================\n",
            "Name: divide\n",
            "\n",
            "2.8\n",
            "---\n",
            "==================================\u001b[1m Ai Message \u001b[0m==================================\n",
            "\n",
            "The answer is 2.8.\n",
            "---\n",
            "\n",
            "=== Another Complex Example ===\n",
            "================================\u001b[1m Human Message \u001b[0m=================================\n",
            "\n",
            "Calculate (15 + 25) * 3, then divide the result by 6\n",
            "---\n",
            "==================================\u001b[1m Ai Message \u001b[0m==================================\n",
            "Tool Calls:\n",
            "  add (9989acc2-f164-471b-a05d-56dba9915cce)\n",
            " Call ID: 9989acc2-f164-471b-a05d-56dba9915cce\n",
            "  Args:\n",
            "    a: 15.0\n",
            "    b: 25.0\n",
            "---\n",
            "=================================\u001b[1m Tool Message \u001b[0m=================================\n",
            "Name: add\n",
            "\n",
            "40\n",
            "---\n",
            "==================================\u001b[1m Ai Message \u001b[0m==================================\n",
            "Tool Calls:\n",
            "  multiply (322f5a1d-eaf5-4087-b4e4-e2fd8f39302a)\n",
            " Call ID: 322f5a1d-eaf5-4087-b4e4-e2fd8f39302a\n",
            "  Args:\n",
            "    a: 40.0\n",
            "    b: 3.0\n",
            "---\n",
            "=================================\u001b[1m Tool Message \u001b[0m=================================\n",
            "Name: multiply\n",
            "\n",
            "120\n",
            "---\n",
            "==================================\u001b[1m Ai Message \u001b[0m==================================\n",
            "Tool Calls:\n",
            "  divide (162a1dce-20e5-4370-a3c1-b1ab415e379a)\n",
            " Call ID: 162a1dce-20e5-4370-a3c1-b1ab415e379a\n",
            "  Args:\n",
            "    a: 120.0\n",
            "    b: 6.0\n",
            "---\n",
            "=================================\u001b[1m Tool Message \u001b[0m=================================\n",
            "Name: divide\n",
            "\n",
            "20.0\n",
            "---\n",
            "==================================\u001b[1m Ai Message \u001b[0m==================================\n",
            "\n",
            "(15 + 25) * 3 = 40 * 3 = 120, then 120 / 6 = 20. The answer is 20.\n",
            "---\n"
          ]
        }
      ]
    },
    {
      "cell_type": "markdown",
      "source": [
        "## 💾 Step 7: Agent Memory - Persistent Conversations\n",
        "\n",
        "### Understanding Memory Limitations\n",
        "\n",
        "When running multiple turns **without persistence**, the state is **transient**:\n",
        "\n",
        "* The model forgets past results between conversations\n",
        "* Example:\n",
        "  * User: \"Add 3 and 4.\" → Agent responds \"7\"\n",
        "  * User: \"Multiply that by 2.\" → Agent asks \"Please provide the number...\" because it forgot\n",
        "\n",
        "### Introducing Persistent Memory\n",
        "\n",
        "**MemorySaver** provides persistent memory capabilities:\n",
        "\n",
        "* **MemorySaver**: An in-memory key-value store for graph state\n",
        "* **Checkpoint system**: Automatically saves the graph state after each step\n",
        "* **Thread-based conversations**: Use `thread_id` to maintain separate conversation contexts\n",
        "* **State persistence**: Enables the agent to retain conversation context across multiple invocations\n",
        "\n",
        "This shifts the agent from **transient state** to a **steady state**.\n",
        "\n",
        "### Create Memory-Enabled Agent"
      ],
      "metadata": {
        "id": "y1RpYzgUgXh-"
      }
    },
    {
      "cell_type": "code",
      "source": [
        "# Create memory checkpointer\n",
        "memory = MemorySaver()\n",
        "react_agent_with_memory = builder.compile(checkpointer=memory)\n",
        "\n",
        "# Configuration for persistent conversation thread\n",
        "config = {\"configurable\": {\"thread_id\": \"conversation_1\"}}\n",
        "\n",
        "print(\"=== Testing Persistent Memory ===\")\n",
        "\n",
        "# First interaction\n",
        "print(\"\\n--- First Turn ---\")\n",
        "result1 = react_agent_with_memory.invoke(\n",
        "    {\"messages\": [HumanMessage(content=\"Calculate 15 + 25\")]},\n",
        "    config\n",
        ")\n",
        "for message in result1['messages']:\n",
        "    message.pretty_print()\n",
        "\n",
        "# Second interaction - should remember previous context\n",
        "print(\"\\n--- Second Turn ---\")\n",
        "result2 = react_agent_with_memory.invoke(\n",
        "    {\"messages\": [HumanMessage(content=\"Now multiply that result by 3\")]},\n",
        "    config\n",
        ")\n",
        "for message in result2['messages']:\n",
        "    message.pretty_print()\n",
        "\n",
        "# Third interaction - testing memory retention\n",
        "print(\"\\n--- Third Turn ---\")\n",
        "result3 = react_agent_with_memory.invoke(\n",
        "    {\"messages\": [HumanMessage(content=\"What was the original sum before multiplication?\")]},\n",
        "    config\n",
        ")\n",
        "for message in result3['messages']:\n",
        "    message.pretty_print()"
      ],
      "metadata": {
        "colab": {
          "base_uri": "https://localhost:8080/"
        },
        "id": "L3ssgjjggdaV",
        "outputId": "49af4fb0-8835-4336-8c45-c9108974cf38"
      },
      "execution_count": 38,
      "outputs": [
        {
          "output_type": "stream",
          "name": "stdout",
          "text": [
            "=== Testing Persistent Memory ===\n",
            "\n",
            "--- First Turn ---\n",
            "================================\u001b[1m Human Message \u001b[0m=================================\n",
            "\n",
            "Calculate 15 + 25\n",
            "==================================\u001b[1m Ai Message \u001b[0m==================================\n",
            "Tool Calls:\n",
            "  add (b608ce6e-b4c2-45eb-ab79-ba1d70d5a931)\n",
            " Call ID: b608ce6e-b4c2-45eb-ab79-ba1d70d5a931\n",
            "  Args:\n",
            "    a: 15.0\n",
            "    b: 25.0\n",
            "=================================\u001b[1m Tool Message \u001b[0m=================================\n",
            "Name: add\n",
            "\n",
            "40\n",
            "==================================\u001b[1m Ai Message \u001b[0m==================================\n",
            "\n",
            "15 + 25 = 40\n",
            "\n",
            "--- Second Turn ---\n",
            "================================\u001b[1m Human Message \u001b[0m=================================\n",
            "\n",
            "Calculate 15 + 25\n",
            "==================================\u001b[1m Ai Message \u001b[0m==================================\n",
            "Tool Calls:\n",
            "  add (b608ce6e-b4c2-45eb-ab79-ba1d70d5a931)\n",
            " Call ID: b608ce6e-b4c2-45eb-ab79-ba1d70d5a931\n",
            "  Args:\n",
            "    a: 15.0\n",
            "    b: 25.0\n",
            "=================================\u001b[1m Tool Message \u001b[0m=================================\n",
            "Name: add\n",
            "\n",
            "40\n",
            "==================================\u001b[1m Ai Message \u001b[0m==================================\n",
            "\n",
            "15 + 25 = 40\n",
            "================================\u001b[1m Human Message \u001b[0m=================================\n",
            "\n",
            "Now multiply that result by 3\n",
            "==================================\u001b[1m Ai Message \u001b[0m==================================\n",
            "Tool Calls:\n",
            "  multiply (bc6b924d-4b04-417f-837f-1e0af455da68)\n",
            " Call ID: bc6b924d-4b04-417f-837f-1e0af455da68\n",
            "  Args:\n",
            "    a: 40.0\n",
            "    b: 3.0\n",
            "=================================\u001b[1m Tool Message \u001b[0m=================================\n",
            "Name: multiply\n",
            "\n",
            "120\n",
            "==================================\u001b[1m Ai Message \u001b[0m==================================\n",
            "\n",
            "The result of 15 + 25 multiplied by 3 is 120.\n",
            "\n",
            "--- Third Turn ---\n",
            "================================\u001b[1m Human Message \u001b[0m=================================\n",
            "\n",
            "Calculate 15 + 25\n",
            "==================================\u001b[1m Ai Message \u001b[0m==================================\n",
            "Tool Calls:\n",
            "  add (b608ce6e-b4c2-45eb-ab79-ba1d70d5a931)\n",
            " Call ID: b608ce6e-b4c2-45eb-ab79-ba1d70d5a931\n",
            "  Args:\n",
            "    a: 15.0\n",
            "    b: 25.0\n",
            "=================================\u001b[1m Tool Message \u001b[0m=================================\n",
            "Name: add\n",
            "\n",
            "40\n",
            "==================================\u001b[1m Ai Message \u001b[0m==================================\n",
            "\n",
            "15 + 25 = 40\n",
            "================================\u001b[1m Human Message \u001b[0m=================================\n",
            "\n",
            "Now multiply that result by 3\n",
            "==================================\u001b[1m Ai Message \u001b[0m==================================\n",
            "Tool Calls:\n",
            "  multiply (bc6b924d-4b04-417f-837f-1e0af455da68)\n",
            " Call ID: bc6b924d-4b04-417f-837f-1e0af455da68\n",
            "  Args:\n",
            "    a: 40.0\n",
            "    b: 3.0\n",
            "=================================\u001b[1m Tool Message \u001b[0m=================================\n",
            "Name: multiply\n",
            "\n",
            "120\n",
            "==================================\u001b[1m Ai Message \u001b[0m==================================\n",
            "\n",
            "The result of 15 + 25 multiplied by 3 is 120.\n",
            "================================\u001b[1m Human Message \u001b[0m=================================\n",
            "\n",
            "What was the original sum before multiplication?\n",
            "==================================\u001b[1m Ai Message \u001b[0m==================================\n",
            "\n",
            "The original sum before the multiplication was 40.\n"
          ]
        }
      ]
    },
    {
      "cell_type": "markdown",
      "source": [
        "### Demonstrate Different Conversation Threads"
      ],
      "metadata": {
        "id": "l1qQr3JZggsu"
      }
    },
    {
      "cell_type": "code",
      "source": [
        "print(\"=== Different Conversation Threads ===\")\n",
        "\n",
        "# Create a new thread - should not remember previous conversation\n",
        "config_new = {\"configurable\": {\"thread_id\": \"conversation_2\"}}\n",
        "\n",
        "print(\"\\n--- New Thread (should not remember previous conversation) ---\")\n",
        "result_new = react_agent_with_memory.invoke(\n",
        "    {\"messages\": [HumanMessage(content=\"What was the last calculation we did?\")]},\n",
        "    config_new\n",
        ")\n",
        "for message in result_new['messages']:\n",
        "    message.pretty_print()\n",
        "\n",
        "print(\"\\n--- Back to Original Thread ---\")\n",
        "# Switch back to original thread - should remember the context\n",
        "result_original = react_agent_with_memory.invoke(\n",
        "    {\"messages\": [HumanMessage(content=\"Can you remind me what we calculated?\")]},\n",
        "    config  # Using original thread_id\n",
        ")\n",
        "for message in result_original['messages']:\n",
        "    message.pretty_print()"
      ],
      "metadata": {
        "colab": {
          "base_uri": "https://localhost:8080/"
        },
        "id": "XsgOHZhagk-W",
        "outputId": "429e7018-56e9-46f5-e9c5-b2fd67c09222"
      },
      "execution_count": 39,
      "outputs": [
        {
          "output_type": "stream",
          "name": "stdout",
          "text": [
            "=== Different Conversation Threads ===\n",
            "\n",
            "--- New Thread (should not remember previous conversation) ---\n",
            "================================\u001b[1m Human Message \u001b[0m=================================\n",
            "\n",
            "What was the last calculation we did?\n",
            "==================================\u001b[1m Ai Message \u001b[0m==================================\n",
            "\n",
            "I am a new assistant, and I don't have memory of past conversations. So I don't know what the last calculation was.\n",
            "\n",
            "--- Back to Original Thread ---\n",
            "================================\u001b[1m Human Message \u001b[0m=================================\n",
            "\n",
            "Calculate 15 + 25\n",
            "==================================\u001b[1m Ai Message \u001b[0m==================================\n",
            "Tool Calls:\n",
            "  add (b608ce6e-b4c2-45eb-ab79-ba1d70d5a931)\n",
            " Call ID: b608ce6e-b4c2-45eb-ab79-ba1d70d5a931\n",
            "  Args:\n",
            "    a: 15.0\n",
            "    b: 25.0\n",
            "=================================\u001b[1m Tool Message \u001b[0m=================================\n",
            "Name: add\n",
            "\n",
            "40\n",
            "==================================\u001b[1m Ai Message \u001b[0m==================================\n",
            "\n",
            "15 + 25 = 40\n",
            "================================\u001b[1m Human Message \u001b[0m=================================\n",
            "\n",
            "Now multiply that result by 3\n",
            "==================================\u001b[1m Ai Message \u001b[0m==================================\n",
            "Tool Calls:\n",
            "  multiply (bc6b924d-4b04-417f-837f-1e0af455da68)\n",
            " Call ID: bc6b924d-4b04-417f-837f-1e0af455da68\n",
            "  Args:\n",
            "    a: 40.0\n",
            "    b: 3.0\n",
            "=================================\u001b[1m Tool Message \u001b[0m=================================\n",
            "Name: multiply\n",
            "\n",
            "120\n",
            "==================================\u001b[1m Ai Message \u001b[0m==================================\n",
            "\n",
            "The result of 15 + 25 multiplied by 3 is 120.\n",
            "================================\u001b[1m Human Message \u001b[0m=================================\n",
            "\n",
            "What was the original sum before multiplication?\n",
            "==================================\u001b[1m Ai Message \u001b[0m==================================\n",
            "\n",
            "The original sum before the multiplication was 40.\n",
            "================================\u001b[1m Human Message \u001b[0m=================================\n",
            "\n",
            "Can you remind me what we calculated?\n",
            "==================================\u001b[1m Ai Message \u001b[0m==================================\n",
            "\n",
            "We first calculated the sum of 15 and 25, which was 40. Then, we multiplied that result by 3, which gave us 120.\n"
          ]
        }
      ]
    },
    {
      "cell_type": "markdown",
      "source": [
        "## 🧪 Step 8: Advanced Examples and Use Cases\n",
        "\n",
        "### Complex Problem Solving"
      ],
      "metadata": {
        "id": "7iTlQDshgmnW"
      }
    },
    {
      "cell_type": "code",
      "source": [
        "print(\"=== Complex Problem Solving ===\")\n",
        "\n",
        "complex_problem = \"\"\"\n",
        "I have a rectangular garden that is 12 meters long and 8 meters wide.\n",
        "Please help me with these calculations:\n",
        "1. Calculate the area of the garden\n",
        "2. If I want to put a fence around it, calculate the perimeter\n",
        "3. If fencing costs $15 per meter, what's the total cost?\n",
        "\"\"\"\n",
        "\n",
        "result = react_agent_with_memory.invoke(\n",
        "    {\"messages\": [HumanMessage(content=complex_problem)]},\n",
        "    {\"configurable\": {\"thread_id\": \"garden_problem\"}}\n",
        ")\n",
        "\n",
        "for message in result['messages']:\n",
        "    message.pretty_print()"
      ],
      "metadata": {
        "colab": {
          "base_uri": "https://localhost:8080/"
        },
        "id": "pcgun8DIgqK-",
        "outputId": "76682c2c-8309-4855-de83-83d27650aa3a"
      },
      "execution_count": 40,
      "outputs": [
        {
          "output_type": "stream",
          "name": "stdout",
          "text": [
            "=== Complex Problem Solving ===\n",
            "================================\u001b[1m Human Message \u001b[0m=================================\n",
            "\n",
            "\n",
            "I have a rectangular garden that is 12 meters long and 8 meters wide.\n",
            "Please help me with these calculations:\n",
            "1. Calculate the area of the garden\n",
            "2. If I want to put a fence around it, calculate the perimeter  \n",
            "3. If fencing costs $15 per meter, what's the total cost?\n",
            "\n",
            "==================================\u001b[1m Ai Message \u001b[0m==================================\n",
            "\n",
            "Okay, let's break this down step by step.\n",
            "\n",
            "1.  **Area of the garden:** The area of a rectangle is calculated by multiplying its length and width. So, the area is 12 meters * 8 meters.\n",
            "2.  **Perimeter of the garden:** The perimeter of a rectangle is calculated by adding up all the sides. That's length + width + length + width, or 2 * (length + width). So, the perimeter is 2 * (12 meters + 8 meters).\n",
            "3.  **Total cost of fencing:**  Multiply the perimeter by the cost per meter, which is $15.\n",
            "\n",
            "Now, let's use the available tools to perform these calculations.\n",
            "Tool Calls:\n",
            "  multiply (580f1413-5717-4029-980b-88da1c436a1f)\n",
            " Call ID: 580f1413-5717-4029-980b-88da1c436a1f\n",
            "  Args:\n",
            "    a: 12.0\n",
            "    b: 8.0\n",
            "  add (4d9b4922-e486-41ef-a66e-8b4ee9272f94)\n",
            " Call ID: 4d9b4922-e486-41ef-a66e-8b4ee9272f94\n",
            "  Args:\n",
            "    a: 12.0\n",
            "    b: 8.0\n",
            "=================================\u001b[1m Tool Message \u001b[0m=================================\n",
            "Name: multiply\n",
            "\n",
            "96\n",
            "=================================\u001b[1m Tool Message \u001b[0m=================================\n",
            "Name: add\n",
            "\n",
            "20\n",
            "==================================\u001b[1m Ai Message \u001b[0m==================================\n",
            "\n",
            "Here's how we can solve this:\n",
            "\n",
            "1.  **Area:** The area of a rectangle is length \\* width. So, the area of the garden is 12 meters \\* 8 meters = 96 square meters.\n",
            "2.  **Perimeter:** The perimeter of a rectangle is 2 \\* (length + width). So, the perimeter of the garden is 2 \\* (12 meters + 8 meters) = 2 \\* 20 meters = 40 meters.\n",
            "3.  **Total cost:** The total cost of the fence is the perimeter \\* cost per meter. So, the total cost is 40 meters \\* $15/meter = $600.\n"
          ]
        }
      ]
    },
    {
      "cell_type": "markdown",
      "source": [
        "### Error Handling and Edge Cases"
      ],
      "metadata": {
        "id": "_ZPKNUWggubW"
      }
    },
    {
      "cell_type": "code",
      "source": [
        "print(\"=== Error Handling Test ===\")\n",
        "\n",
        "# Test division by zero\n",
        "print(\"\\n--- Division by Zero Test ---\")\n",
        "error_test = react_agent_with_memory.invoke(\n",
        "    {\"messages\": [HumanMessage(content=\"What is 10 divided by 0?\")]},\n",
        "    {\"configurable\": {\"thread_id\": \"error_test\"}}\n",
        ")\n",
        "\n",
        "for message in error_test['messages']:\n",
        "    message.pretty_print()\n",
        "\n",
        "# Test with very large numbers\n",
        "print(\"\\n--- Large Number Test ---\")\n",
        "large_test = react_agent_with_memory.invoke(\n",
        "    {\"messages\": [HumanMessage(content=\"Multiply 999999 by 888888\")]},\n",
        "    {\"configurable\": {\"thread_id\": \"large_numbers\"}}\n",
        ")\n",
        "\n",
        "for message in large_test['messages']:\n",
        "    message.pretty_print()"
      ],
      "metadata": {
        "colab": {
          "base_uri": "https://localhost:8080/"
        },
        "id": "4_BzBzdegzB-",
        "outputId": "b06e36d6-d765-4aa6-8472-371b1ae1757f"
      },
      "execution_count": 41,
      "outputs": [
        {
          "output_type": "stream",
          "name": "stdout",
          "text": [
            "=== Error Handling Test ===\n",
            "\n",
            "--- Division by Zero Test ---\n",
            "================================\u001b[1m Human Message \u001b[0m=================================\n",
            "\n",
            "What is 10 divided by 0?\n",
            "==================================\u001b[1m Ai Message \u001b[0m==================================\n",
            "Tool Calls:\n",
            "  divide (60929135-10ff-4827-bb19-ad0c2abcdae8)\n",
            " Call ID: 60929135-10ff-4827-bb19-ad0c2abcdae8\n",
            "  Args:\n",
            "    a: 10.0\n",
            "    b: 0.0\n",
            "=================================\u001b[1m Tool Message \u001b[0m=================================\n",
            "Name: divide\n",
            "\n",
            "Error: ValueError('Cannot divide by zero')\n",
            " Please fix your mistakes.\n",
            "==================================\u001b[1m Ai Message \u001b[0m==================================\n",
            "\n",
            "I cannot divide by zero. It is not mathematically possible.\n",
            "\n",
            "--- Large Number Test ---\n",
            "================================\u001b[1m Human Message \u001b[0m=================================\n",
            "\n",
            "Multiply 999999 by 888888\n",
            "==================================\u001b[1m Ai Message \u001b[0m==================================\n",
            "Tool Calls:\n",
            "  multiply (5a2d61ee-c47d-4aaf-b96c-ce84e5871b05)\n",
            " Call ID: 5a2d61ee-c47d-4aaf-b96c-ce84e5871b05\n",
            "  Args:\n",
            "    a: 999999.0\n",
            "    b: 888888.0\n",
            "=================================\u001b[1m Tool Message \u001b[0m=================================\n",
            "Name: multiply\n",
            "\n",
            "888887111112\n",
            "==================================\u001b[1m Ai Message \u001b[0m==================================\n",
            "\n",
            "The result of multiplying 999999 by 888888 is 888887111112.\n"
          ]
        }
      ]
    },
    {
      "cell_type": "markdown",
      "source": [
        "### Multi-Turn Mathematical Conversation"
      ],
      "metadata": {
        "id": "Dk6OyQZxg1JW"
      }
    },
    {
      "cell_type": "code",
      "source": [
        "print(\"=== Multi-Turn Mathematical Conversation ===\")\n",
        "\n",
        "# Start a mathematical conversation thread\n",
        "math_config = {\"configurable\": {\"thread_id\": \"math_conversation\"}}\n",
        "\n",
        "# Turn 1: Start with basic calculation\n",
        "print(\"\\n--- Turn 1 ---\")\n",
        "turn1 = react_agent_with_memory.invoke(\n",
        "    {\"messages\": [HumanMessage(content=\"Let's start with 5 + 3\")]},\n",
        "    math_config\n",
        ")\n",
        "for message in turn1['messages']:\n",
        "    message.pretty_print()\n",
        "\n",
        "# Turn 2: Build on previous result\n",
        "print(\"\\n--- Turn 2 ---\")\n",
        "turn2 = react_agent_with_memory.invoke(\n",
        "    {\"messages\": [HumanMessage(content=\"Square that result\")]},\n",
        "    math_config\n",
        ")\n",
        "for message in turn2['messages']:\n",
        "    message.pretty_print()\n",
        "\n",
        "# Turn 3: Continue the sequence\n",
        "print(\"\\n--- Turn 3 ---\")\n",
        "turn3 = react_agent_with_memory.invoke(\n",
        "    {\"messages\": [HumanMessage(content=\"Divide by 4 and then add 10\")]},\n",
        "    math_config\n",
        ")\n",
        "for message in turn3['messages']:\n",
        "    message.pretty_print()"
      ],
      "metadata": {
        "colab": {
          "base_uri": "https://localhost:8080/"
        },
        "id": "E__KjLKXg5Ud",
        "outputId": "b1df9f68-12cc-4fb5-c276-94d3944b7f6c"
      },
      "execution_count": 42,
      "outputs": [
        {
          "output_type": "stream",
          "name": "stdout",
          "text": [
            "=== Multi-Turn Mathematical Conversation ===\n",
            "\n",
            "--- Turn 1 ---\n",
            "================================\u001b[1m Human Message \u001b[0m=================================\n",
            "\n",
            "Let's start with 5 + 3\n",
            "==================================\u001b[1m Ai Message \u001b[0m==================================\n",
            "Tool Calls:\n",
            "  add (e46fbcd2-ddd7-4011-871d-892484326feb)\n",
            " Call ID: e46fbcd2-ddd7-4011-871d-892484326feb\n",
            "  Args:\n",
            "    a: 5.0\n",
            "    b: 3.0\n",
            "=================================\u001b[1m Tool Message \u001b[0m=================================\n",
            "Name: add\n",
            "\n",
            "8\n",
            "==================================\u001b[1m Ai Message \u001b[0m==================================\n",
            "\n",
            "The answer is 8.\n",
            "\n",
            "--- Turn 2 ---\n",
            "================================\u001b[1m Human Message \u001b[0m=================================\n",
            "\n",
            "Let's start with 5 + 3\n",
            "==================================\u001b[1m Ai Message \u001b[0m==================================\n",
            "Tool Calls:\n",
            "  add (e46fbcd2-ddd7-4011-871d-892484326feb)\n",
            " Call ID: e46fbcd2-ddd7-4011-871d-892484326feb\n",
            "  Args:\n",
            "    a: 5.0\n",
            "    b: 3.0\n",
            "=================================\u001b[1m Tool Message \u001b[0m=================================\n",
            "Name: add\n",
            "\n",
            "8\n",
            "==================================\u001b[1m Ai Message \u001b[0m==================================\n",
            "\n",
            "The answer is 8.\n",
            "================================\u001b[1m Human Message \u001b[0m=================================\n",
            "\n",
            "Square that result\n",
            "==================================\u001b[1m Ai Message \u001b[0m==================================\n",
            "\n",
            "To square the result, I need to multiply it by itself. So, I need to calculate 8 * 8.\n",
            "Tool Calls:\n",
            "  multiply (7b966e87-91cd-4b97-9ed1-2fbc93172035)\n",
            " Call ID: 7b966e87-91cd-4b97-9ed1-2fbc93172035\n",
            "  Args:\n",
            "    a: 8.0\n",
            "    b: 8.0\n",
            "=================================\u001b[1m Tool Message \u001b[0m=================================\n",
            "Name: multiply\n",
            "\n",
            "64\n",
            "==================================\u001b[1m Ai Message \u001b[0m==================================\n",
            "\n",
            "The answer is 64.\n",
            "\n",
            "--- Turn 3 ---\n",
            "================================\u001b[1m Human Message \u001b[0m=================================\n",
            "\n",
            "Let's start with 5 + 3\n",
            "==================================\u001b[1m Ai Message \u001b[0m==================================\n",
            "Tool Calls:\n",
            "  add (e46fbcd2-ddd7-4011-871d-892484326feb)\n",
            " Call ID: e46fbcd2-ddd7-4011-871d-892484326feb\n",
            "  Args:\n",
            "    a: 5.0\n",
            "    b: 3.0\n",
            "=================================\u001b[1m Tool Message \u001b[0m=================================\n",
            "Name: add\n",
            "\n",
            "8\n",
            "==================================\u001b[1m Ai Message \u001b[0m==================================\n",
            "\n",
            "The answer is 8.\n",
            "================================\u001b[1m Human Message \u001b[0m=================================\n",
            "\n",
            "Square that result\n",
            "==================================\u001b[1m Ai Message \u001b[0m==================================\n",
            "\n",
            "To square the result, I need to multiply it by itself. So, I need to calculate 8 * 8.\n",
            "Tool Calls:\n",
            "  multiply (7b966e87-91cd-4b97-9ed1-2fbc93172035)\n",
            " Call ID: 7b966e87-91cd-4b97-9ed1-2fbc93172035\n",
            "  Args:\n",
            "    a: 8.0\n",
            "    b: 8.0\n",
            "=================================\u001b[1m Tool Message \u001b[0m=================================\n",
            "Name: multiply\n",
            "\n",
            "64\n",
            "==================================\u001b[1m Ai Message \u001b[0m==================================\n",
            "\n",
            "The answer is 64.\n",
            "================================\u001b[1m Human Message \u001b[0m=================================\n",
            "\n",
            "Divide by 4 and then add 10\n",
            "==================================\u001b[1m Ai Message \u001b[0m==================================\n",
            "Tool Calls:\n",
            "  divide (3fad5026-fb06-465a-a06b-ff8cd251c4a9)\n",
            " Call ID: 3fad5026-fb06-465a-a06b-ff8cd251c4a9\n",
            "  Args:\n",
            "    a: 64.0\n",
            "    b: 4.0\n",
            "=================================\u001b[1m Tool Message \u001b[0m=================================\n",
            "Name: divide\n",
            "\n",
            "16.0\n",
            "==================================\u001b[1m Ai Message \u001b[0m==================================\n",
            "Tool Calls:\n",
            "  add (80f51b78-fb53-4d7e-9a94-62cb0fdd1e09)\n",
            " Call ID: 80f51b78-fb53-4d7e-9a94-62cb0fdd1e09\n",
            "  Args:\n",
            "    a: 16.0\n",
            "    b: 10.0\n",
            "=================================\u001b[1m Tool Message \u001b[0m=================================\n",
            "Name: add\n",
            "\n",
            "26\n",
            "==================================\u001b[1m Ai Message \u001b[0m==================================\n",
            "\n",
            "The answer is 26.\n"
          ]
        }
      ]
    },
    {
      "cell_type": "markdown",
      "source": [
        "## 📈 Step 9: Graph Analysis and Debugging\n",
        "\n",
        "### Visualize Graph Structure\n",
        "\n",
        "Understanding your graph structure is crucial for debugging and optimization:\n",
        "\n",
        "* **Nodes**: The processing units of your graph\n",
        "* **Edges**: The connections and flow control\n",
        "* **State flow**: How data moves through the graph\n",
        "* **Conditional logic**: Where decisions are made"
      ],
      "metadata": {
        "id": "ydPDAVmqg8NO"
      }
    },
    {
      "cell_type": "code",
      "source": [
        "print(\"=== Graph Structure Analysis ===\")\n",
        "\n",
        "# Show detailed graph structure\n",
        "graph_dict = react_agent_with_memory.get_graph()\n",
        "print(f\"Nodes: {list(graph_dict.nodes.keys())}\")\n",
        "print(f\"Edges: {len(graph_dict.edges)} connections\")\n",
        "\n",
        "# Display both normal and X-ray views\n",
        "print(\"\\n--- Normal View ---\")\n",
        "display(Image(react_agent_with_memory.get_graph().draw_mermaid_png()))\n",
        "\n",
        "print(\"\\n--- X-Ray View (shows internal structure) ---\")\n",
        "display(Image(react_agent_with_memory.get_graph(xray=True).draw_mermaid_png()))\n"
      ],
      "metadata": {
        "colab": {
          "base_uri": "https://localhost:8080/",
          "height": 644
        },
        "id": "n5E7OZnyhAbN",
        "outputId": "4015d59f-a0ee-4f5d-c554-5e45b39e3dae"
      },
      "execution_count": 43,
      "outputs": [
        {
          "output_type": "stream",
          "name": "stdout",
          "text": [
            "=== Graph Structure Analysis ===\n",
            "Nodes: ['__start__', 'assistant', 'tools', '__end__']\n",
            "Edges: 4 connections\n",
            "\n",
            "--- Normal View ---\n"
          ]
        },
        {
          "output_type": "display_data",
          "data": {
            "image/png": "[encoded data removed]",
            "text/plain": [
              "<IPython.core.display.Image object>"
            ]
          },
          "metadata": {}
        },
        {
          "output_type": "stream",
          "name": "stdout",
          "text": [
            "\n",
            "--- X-Ray View (shows internal structure) ---\n"
          ]
        },
        {
          "output_type": "display_data",
          "data": {
            "image/png": "[encoded data removed]",
            "text/plain": [
              "<IPython.core.display.Image object>"
            ]
          },
          "metadata": {}
        }
      ]
    },
    {
      "cell_type": "markdown",
      "source": [
        "### Memory State Inspection"
      ],
      "metadata": {
        "id": "fOBrjda0hCfe"
      }
    },
    {
      "cell_type": "code",
      "source": [
        "print(\"=== Memory State Inspection ===\")\n",
        "\n",
        "# Check what's stored in memory for different conversations\n",
        "for thread_name, thread_id in [\n",
        "    (\"Garden Problem\", \"garden_problem\"),\n",
        "    (\"Math Conversation\", \"math_conversation\"),\n",
        "    (\"Error Test\", \"error_test\")\n",
        "]:\n",
        "    try:\n",
        "        thread_config = {\"configurable\": {\"thread_id\": thread_id}}\n",
        "        thread_state = react_agent_with_memory.get_state(thread_config)\n",
        "\n",
        "        print(f\"\\n--- {thread_name} Thread ---\")\n",
        "        print(f\"State keys: {list(thread_state.values.keys())}\")\n",
        "\n",
        "        messages = thread_state.values.get('messages', [])\n",
        "        print(f\"Number of messages: {len(messages)}\")\n",
        "\n",
        "        if messages:\n",
        "            print(\"Last message:\")\n",
        "            print(f\"  Type: {type(messages[-1]).__name__}\")\n",
        "            print(f\"  Content: {messages[-1].content[:100]}...\")\n",
        "\n",
        "    except Exception as e:\n",
        "        print(f\"No state found for {thread_name}: {e}\")"
      ],
      "metadata": {
        "colab": {
          "base_uri": "https://localhost:8080/"
        },
        "id": "K9n66t6dhF-u",
        "outputId": "8afa0c0d-fa9a-497a-fd01-5f5f4ce8e4a9"
      },
      "execution_count": 45,
      "outputs": [
        {
          "output_type": "stream",
          "name": "stdout",
          "text": [
            "=== Memory State Inspection ===\n",
            "\n",
            "--- Garden Problem Thread ---\n",
            "State keys: ['messages']\n",
            "Number of messages: 5\n",
            "Last message:\n",
            "  Type: AIMessage\n",
            "  Content: Here's how we can solve this:\n",
            "\n",
            "1.  **Area:** The area of a rectangle is length \\* width. So, the are...\n",
            "\n",
            "--- Math Conversation Thread ---\n",
            "State keys: ['messages']\n",
            "Number of messages: 14\n",
            "Last message:\n",
            "  Type: AIMessage\n",
            "  Content: The answer is 26....\n",
            "\n",
            "--- Error Test Thread ---\n",
            "State keys: ['messages']\n",
            "Number of messages: 4\n",
            "Last message:\n",
            "  Type: AIMessage\n",
            "  Content: I cannot divide by zero. It is not mathematically possible....\n"
          ]
        }
      ]
    },
    {
      "cell_type": "markdown",
      "source": [
        "### Performance Analysis"
      ],
      "metadata": {
        "id": "kNYZ65OyhIy2"
      }
    },
    {
      "cell_type": "code",
      "source": [
        "print(\"=== Performance Analysis ===\")\n",
        "\n",
        "import time\n",
        "\n",
        "# Test execution time for different complexity levels\n",
        "test_cases = [\n",
        "    \"Add 2 and 3\",\n",
        "    \"Multiply 4 by 5, then add 10\",\n",
        "    \"Add 10 and 15, multiply by 2, divide by 5, then add 3\"\n",
        "]\n",
        "\n",
        "for i, test_case in enumerate(test_cases, 1):\n",
        "    print(f\"\\n--- Test Case {i}: {test_case} ---\")\n",
        "\n",
        "    start_time = time.time()\n",
        "    result = react_agent_with_memory.invoke(\n",
        "        {\"messages\": [HumanMessage(content=test_case)]},\n",
        "        {\"configurable\": {\"thread_id\": f\"perf_test_{i}\"}}\n",
        "    )\n",
        "    end_time = time.time()\n",
        "\n",
        "    execution_time = end_time - start_time\n",
        "    num_messages = len(result['messages'])\n",
        "\n",
        "    print(f\"Execution time: {execution_time:.2f} seconds\")\n",
        "    print(f\"Number of messages: {num_messages}\")\n",
        "    print(f\"Final result: {result['messages'][-1].content}\")"
      ],
      "metadata": {
        "colab": {
          "base_uri": "https://localhost:8080/"
        },
        "id": "W8MceUHFhLze",
        "outputId": "32dc077b-56b8-4dc5-dbd4-93b9b13d5850"
      },
      "execution_count": 46,
      "outputs": [
        {
          "output_type": "stream",
          "name": "stdout",
          "text": [
            "=== Performance Analysis ===\n",
            "\n",
            "--- Test Case 1: Add 2 and 3 ---\n",
            "Execution time: 1.14 seconds\n",
            "Number of messages: 4\n",
            "Final result: The sum of 2 and 3 is 5.\n",
            "\n",
            "--- Test Case 2: Multiply 4 by 5, then add 10 ---\n",
            "Execution time: 2.02 seconds\n",
            "Number of messages: 6\n",
            "Final result: The result of multiplying 4 by 5 and then adding 10 is 30.\n",
            "\n",
            "--- Test Case 3: Add 10 and 15, multiply by 2, divide by 5, then add 3 ---\n",
            "Execution time: 2.72 seconds\n",
            "Number of messages: 10\n",
            "Final result: 10 + 15 = 25\n",
            "25 * 2 = 50\n",
            "50 / 5 = 10\n",
            "10 + 3 = 13\n",
            "The answer is 13.\n"
          ]
        }
      ]
    },
    {
      "cell_type": "markdown",
      "source": [
        "## 🎯 Step 10: Summary and Key Concepts\n",
        "\n",
        "### What We've Built\n",
        "\n",
        "Throughout this tutorial, we've constructed increasingly sophisticated AI agents:\n",
        "\n",
        "1. **Basic State Management**:\n",
        "   * Created graphs with custom state schemas\n",
        "   * Learned how state flows through nodes\n",
        "   \n",
        "2. **Conditional Routing**:\n",
        "   * Implemented decision-making logic in graphs\n",
        "   * Built dynamic workflow control\n",
        "   \n",
        "3. **Tool Integration**:\n",
        "   * Connected external functions to LLM capabilities\n",
        "   * Created intelligent tool selection\n",
        "   \n",
        "4. **ReAct Architecture**:\n",
        "   * Built iterative reasoning and acting loops\n",
        "   * Enabled multi-step problem solving\n",
        "   \n",
        "5. **Persistent Memory**:\n",
        "   * Enabled multi-turn conversations with context retention\n",
        "   * Implemented thread-based conversation management\n",
        "\n",
        "### Key LangGraph Concepts\n",
        "\n",
        "**Core Components:**\n",
        "* **StateGraph**: Core graph construction class for building workflows\n",
        "* **Nodes**: Python functions that process and transform state\n",
        "* **Edges**: Connections between nodes (simple and conditional)\n",
        "* **MessagesState**: Built-in state schema for chat applications\n",
        "* **START/END**: Special nodes for graph entry and exit points\n",
        "\n",
        "**Advanced Features:**\n",
        "* **ToolNode**: Pre-built node for tool execution\n",
        "* **tools_condition**: Conditional edge for tool call routing\n",
        "* **Checkpointer**: Memory system for persistent state\n",
        "* **MemorySaver**: In-memory storage for conversation history\n",
        "\n",
        "### Architecture Patterns\n",
        "\n",
        "**Router Pattern:**\n",
        "* Simple decision-making between direct response and tool use\n",
        "* Good for straightforward tool selection scenarios\n",
        "\n",
        "**ReAct Pattern:**\n",
        "* Iterative reasoning, acting, and observing cycle\n",
        "* Enables complex multi-step problem solving\n",
        "* Supports tool chaining and adaptive behavior\n",
        "\n",
        "**Memory-Enhanced Agent:**\n",
        "* Persistent context across conversation turns\n",
        "* Thread-based conversation management\n",
        "* Enables sophisticated multi-turn interactions\n",
        "\n",
        "### Production Considerations\n",
        "\n",
        "**Scalability:**\n",
        "* Consider database checkpointers for production memory needs\n",
        "* Implement proper error handling and retry mechanisms\n",
        "* Monitor token usage and API costs\n",
        "\n",
        "**Security:**\n",
        "* Validate tool inputs and outputs\n",
        "* Implement proper authentication for tool access\n",
        "* Consider rate limiting and usage quotas\n",
        "\n",
        "**Observability:**\n",
        "* Use LangSmith for production tracing\n",
        "* Implement logging for debugging and monitoring\n",
        "* Track performance metrics and user satisfaction\n",
        "\n",
        "### Next Steps and Extensions\n",
        "\n",
        "To extend this tutorial, consider exploring:\n",
        "\n",
        "**Advanced Agent Architectures:**\n",
        "* Multi-agent systems with role specialization\n",
        "* Hierarchical agents with delegation patterns\n",
        "* Collaborative agents for complex problem solving\n",
        "\n",
        "**Tool Integration:**\n",
        "* Custom APIs and external service integration\n",
        "* Database query tools and data analysis capabilities\n",
        "* Web scraping and real-time information gathering\n",
        "\n",
        "**Production Deployment:**\n",
        "* Containerization and cloud deployment\n",
        "* Load balancing and scaling strategies\n",
        "* Monitoring and alerting systems\n",
        "\n",
        "**Advanced Features:**\n",
        "* Custom checkpointers for different storage backends\n",
        "* Streaming responses for real-time interactions\n",
        "* Integration with vector databases for RAG applications"
      ],
      "metadata": {
        "id": "XC9H9UAbhNo2"
      }
    },
    {
      "cell_type": "code",
      "source": [
        "print(\"🎉 Tutorial Complete!\")\n",
        "print(\"You now have a comprehensive understanding of LangGraph agentic AI.\")\n",
        "print(\"\\nKey achievements:\")\n",
        "print(\"✅ Built state-driven AI workflows\")\n",
        "print(\"✅ Implemented tool-calling agents\")\n",
        "print(\"✅ Created ReAct reasoning loops\")\n",
        "print(\"✅ Added persistent memory capabilities\")\n",
        "print(\"✅ Learned debugging and analysis techniques\")\n",
        "print(\"\\n🚀 Ready to build your own intelligent agents!\")"
      ],
      "metadata": {
        "colab": {
          "base_uri": "https://localhost:8080/"
        },
        "id": "n4VVJFG_hUTX",
        "outputId": "a9b5427d-e8bc-4516-8143-099934ecda96"
      },
      "execution_count": 47,
      "outputs": [
        {
          "output_type": "stream",
          "name": "stdout",
          "text": [
            "🎉 Tutorial Complete!\n",
            "You now have a comprehensive understanding of LangGraph agentic AI.\n",
            "\n",
            "Key achievements:\n",
            "✅ Built state-driven AI workflows\n",
            "✅ Implemented tool-calling agents\n",
            "✅ Created ReAct reasoning loops\n",
            "✅ Added persistent memory capabilities\n",
            "✅ Learned debugging and analysis techniques\n",
            "\n",
            "🚀 Ready to build your own intelligent agents!\n"
          ]
        }
      ]
    },
    {
      "cell_type": "code",
      "source": [],
      "metadata": {
        "id": "TMumc-S9hWJn"
      },
      "execution_count": null,
      "outputs": []
    }
  ]
}